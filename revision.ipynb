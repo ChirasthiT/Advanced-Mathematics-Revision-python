{
 "cells": [
  {
   "cell_type": "code",
   "execution_count": 1,
   "metadata": {},
   "outputs": [],
   "source": [
    "import sympy as sym\n",
    "import numpy as np\n",
    "import matplotlib.pyplot as plt"
   ]
  },
  {
   "cell_type": "markdown",
   "metadata": {},
   "source": [
    "## Differentiation"
   ]
  },
  {
   "cell_type": "markdown",
   "metadata": {},
   "source": [
    "### 1"
   ]
  },
  {
   "cell_type": "code",
   "execution_count": 2,
   "metadata": {},
   "outputs": [
    {
     "data": {
      "text/latex": [
       "$\\displaystyle x$"
      ],
      "text/plain": [
       "x"
      ]
     },
     "execution_count": 2,
     "metadata": {},
     "output_type": "execute_result"
    }
   ],
   "source": [
    "x = sym.symbols('x')\n",
    "x"
   ]
  },
  {
   "cell_type": "code",
   "execution_count": 4,
   "metadata": {},
   "outputs": [
    {
     "data": {
      "text/latex": [
       "$\\displaystyle \\left(x^{3} + 1\\right) \\log{\\left(\\tan^{2}{\\left(x \\right)} \\right)}$"
      ],
      "text/plain": [
       "(x**3 + 1)*log(tan(x)**2)"
      ]
     },
     "execution_count": 4,
     "metadata": {},
     "output_type": "execute_result"
    }
   ],
   "source": [
    "fx = (1 + x**3) * sym.log(sym.tan(x)**2)\n",
    "fx"
   ]
  },
  {
   "cell_type": "code",
   "execution_count": 6,
   "metadata": {},
   "outputs": [
    {
     "data": {
      "text/latex": [
       "$\\displaystyle 3 x^{2} \\log{\\left(\\tan^{2}{\\left(x \\right)} \\right)} + \\frac{\\left(x^{3} + 1\\right) \\left(2 \\tan^{2}{\\left(x \\right)} + 2\\right)}{\\tan{\\left(x \\right)}}$"
      ],
      "text/plain": [
       "3*x**2*log(tan(x)**2) + (x**3 + 1)*(2*tan(x)**2 + 2)/tan(x)"
      ]
     },
     "execution_count": 6,
     "metadata": {},
     "output_type": "execute_result"
    }
   ],
   "source": [
    "fx_diff = sym.diff(fx)\n",
    "fx_diff"
   ]
  },
  {
   "cell_type": "code",
   "execution_count": 7,
   "metadata": {},
   "outputs": [
    {
     "data": {
      "text/latex": [
       "$\\displaystyle 2 \\cdot \\left(\\frac{6 x^{2} \\left(\\tan^{2}{\\left(x \\right)} + 1\\right)}{\\tan{\\left(x \\right)}} + 3 x \\log{\\left(\\tan^{2}{\\left(x \\right)} \\right)} + \\left(x^{3} + 1\\right) \\left(- \\frac{\\left(\\tan^{2}{\\left(x \\right)} + 1\\right)^{2}}{\\tan^{2}{\\left(x \\right)}} + 2 \\tan^{2}{\\left(x \\right)} + 2\\right)\\right)$"
      ],
      "text/plain": [
       "2*(6*x**2*(tan(x)**2 + 1)/tan(x) + 3*x*log(tan(x)**2) + (x**3 + 1)*(-(tan(x)**2 + 1)**2/tan(x)**2 + 2*tan(x)**2 + 2))"
      ]
     },
     "execution_count": 7,
     "metadata": {},
     "output_type": "execute_result"
    }
   ],
   "source": [
    "# second degree\n",
    "fx_diff_2 = sym.diff(fx, x, 2)\n",
    "fx_diff_2"
   ]
  },
  {
   "cell_type": "code",
   "execution_count": 11,
   "metadata": {},
   "outputs": [],
   "source": [
    "x_range = np.linspace(1, 10, 100)\n",
    "fx_numerical = sym.lambdify(x, fx, 'numpy')\n",
    "fx_diff_numerical = sym.lambdify(x, fx_diff, 'numpy')\n",
    "fx_diff_2_numerical = sym.lambdify(x, fx_diff_2, 'numpy')"
   ]
  },
  {
   "cell_type": "code",
   "execution_count": 12,
   "metadata": {},
   "outputs": [],
   "source": [
    "fx_y_range = fx_numerical(x_range)\n",
    "fx_diff_y_range = fx_diff_numerical(x_range)\n",
    "fx_diff_2_y_range = fx_diff_2_numerical(x_range)"
   ]
  },
  {
   "cell_type": "code",
   "execution_count": 13,
   "metadata": {},
   "outputs": [
    {
     "data": {
      "image/png": "[encoded data removed]",
      "text/plain": [
       "<Figure size 640x480 with 1 Axes>"
      ]
     },
     "metadata": {},
     "output_type": "display_data"
    }
   ],
   "source": [
    "plt.figure()\n",
    "plt.plot(x_range, fx_y_range, label='fx')\n",
    "plt.plot(x_range, fx_diff_y_range, label='fx_diff')\n",
    "plt.plot(x_range, fx_diff_2_y_range, label='fx_diff_2')\n",
    "plt.legend()\n",
    "plt.show()"
   ]
  },
  {
   "cell_type": "markdown",
   "metadata": {},
   "source": [
    "### 2"
   ]
  },
  {
   "cell_type": "code",
   "execution_count": 16,
   "metadata": {},
   "outputs": [
    {
     "data": {
      "text/latex": [
       "$\\displaystyle \\frac{x - \\frac{1}{3}}{\\left(x^{2} - 3\\right)^{3}}$"
      ],
      "text/plain": [
       "(x - 1/3)/(x**2 - 3)**3"
      ]
     },
     "execution_count": 16,
     "metadata": {},
     "output_type": "execute_result"
    }
   ],
   "source": [
    "fx = ((3 * x - 1)**1/3) / ((x**2 - 3)**3)\n",
    "fx "
   ]
  },
  {
   "cell_type": "code",
   "execution_count": 17,
   "metadata": {},
   "outputs": [
    {
     "data": {
      "text/latex": [
       "$\\displaystyle - \\frac{6 x \\left(x - \\frac{1}{3}\\right)}{\\left(x^{2} - 3\\right)^{4}} + \\frac{1}{\\left(x^{2} - 3\\right)^{3}}$"
      ],
      "text/plain": [
       "-6*x*(x - 1/3)/(x**2 - 3)**4 + (x**2 - 3)**(-3)"
      ]
     },
     "execution_count": 17,
     "metadata": {},
     "output_type": "execute_result"
    }
   ],
   "source": [
    "fx_diff = sym.diff(fx)\n",
    "fx_diff"
   ]
  },
  {
   "cell_type": "code",
   "execution_count": 18,
   "metadata": {},
   "outputs": [
    {
     "data": {
      "text/latex": [
       "$\\displaystyle \\frac{6 \\left(- 2 x + \\frac{\\left(3 x - 1\\right) \\left(\\frac{8 x^{2}}{x^{2} - 3} - 1\\right)}{3}\\right)}{\\left(x^{2} - 3\\right)^{4}}$"
      ],
      "text/plain": [
       "6*(-2*x + (3*x - 1)*(8*x**2/(x**2 - 3) - 1)/3)/(x**2 - 3)**4"
      ]
     },
     "execution_count": 18,
     "metadata": {},
     "output_type": "execute_result"
    }
   ],
   "source": [
    "fx_diff_2 = sym.diff(fx, x, 2)\n",
    "fx_diff_2"
   ]
  },
  {
   "cell_type": "code",
   "execution_count": 19,
   "metadata": {},
   "outputs": [],
   "source": [
    "fx_numerical = sym.lambdify(x, fx)\n",
    "fx_y_range = fx_numerical(x_range)\n",
    "\n",
    "fx_diff_numerical = sym.lambdify(x, fx_diff)\n",
    "fx_diff_y_range = fx_diff_numerical(x_range)\n",
    "\n",
    "fx_diff_2_numerical = sym.lambdify(x, fx_diff_2)\n",
    "fx_y_range = fx_diff_2_numerical(x_range)"
   ]
  },
  {
   "cell_type": "code",
   "execution_count": 20,
   "metadata": {},
   "outputs": [
    {
     "data": {
      "image/png": "[encoded data removed]",
      "text/plain": [
       "<Figure size 640x480 with 1 Axes>"
      ]
     },
     "metadata": {},
     "output_type": "display_data"
    }
   ],
   "source": [
    "plt.figure()\n",
    "plt.plot(x_range, fx_y_range, label='fx')\n",
    "plt.plot(x_range, fx_diff_y_range, label='fx_diff')\n",
    "plt.plot(x_range, fx_diff_2_y_range, label='fx_diff_2')\n",
    "plt.legend()\n",
    "plt.show()"
   ]
  },
  {
   "cell_type": "markdown",
   "metadata": {},
   "source": [
    "### 3 tbs\n"
   ]
  },
  {
   "cell_type": "code",
   "execution_count": 21,
   "metadata": {},
   "outputs": [
    {
     "data": {
      "text/latex": [
       "$\\displaystyle y$"
      ],
      "text/plain": [
       "y"
      ]
     },
     "execution_count": 21,
     "metadata": {},
     "output_type": "execute_result"
    }
   ],
   "source": [
    "y = sym.symbols('y')\n",
    "y"
   ]
  },
  {
   "cell_type": "code",
   "execution_count": 41,
   "metadata": {},
   "outputs": [
    {
     "data": {
      "text/latex": [
       "$\\displaystyle y{\\left(x \\right)}$"
      ],
      "text/plain": [
       "y(x)"
      ]
     },
     "execution_count": 41,
     "metadata": {},
     "output_type": "execute_result"
    }
   ],
   "source": [
    "y_as_func = sym.Function('y')(x)\n",
    "y_as_func"
   ]
  },
  {
   "cell_type": "code",
   "execution_count": 42,
   "metadata": {},
   "outputs": [
    {
     "data": {
      "text/latex": [
       "$\\displaystyle - x^{2} + \\tan{\\left(y{\\left(x \\right)} \\right)} - 1$"
      ],
      "text/plain": [
       "-x**2 + tan(y(x)) - 1"
      ]
     },
     "execution_count": 42,
     "metadata": {},
     "output_type": "execute_result"
    }
   ],
   "source": [
    "fx = sym.tan(y_as_func) - x**2 - 1\n",
    "fx"
   ]
  },
  {
   "cell_type": "code",
   "execution_count": 43,
   "metadata": {},
   "outputs": [
    {
     "data": {
      "text/latex": [
       "$\\displaystyle - 2 x + \\left(\\tan^{2}{\\left(y{\\left(x \\right)} \\right)} + 1\\right) \\frac{d}{d x} y{\\left(x \\right)}$"
      ],
      "text/plain": [
       "-2*x + (tan(y(x))**2 + 1)*Derivative(y(x), x)"
      ]
     },
     "execution_count": 43,
     "metadata": {},
     "output_type": "execute_result"
    }
   ],
   "source": [
    "fx_diff = sym.diff(fx, x)\n",
    "fx_diff"
   ]
  },
  {
   "cell_type": "code",
   "execution_count": 45,
   "metadata": {},
   "outputs": [
    {
     "data": {
      "text/plain": [
       "[]"
      ]
     },
     "execution_count": 45,
     "metadata": {},
     "output_type": "execute_result"
    }
   ],
   "source": [
    "dy_dx = sym.solve(fx_diff, sym.diff(y, x))\n",
    "dy_dx"
   ]
  },
  {
   "cell_type": "code",
   "execution_count": null,
   "metadata": {},
   "outputs": [],
   "source": [
    "dy_dx_at_0_1 = dy_dx.subs({x: 1, y:0})\n",
    "dy_dx_at_0_1"
   ]
  },
  {
   "cell_type": "markdown",
   "metadata": {},
   "source": [
    "### 18"
   ]
  },
  {
   "cell_type": "code",
   "execution_count": 94,
   "metadata": {},
   "outputs": [],
   "source": [
    "a, b, t = sym.symbols('a, b, t')"
   ]
  },
  {
   "cell_type": "code",
   "execution_count": 95,
   "metadata": {},
   "outputs": [
    {
     "data": {
      "text/latex": [
       "$\\displaystyle a t^{4} + b t$"
      ],
      "text/plain": [
       "a*t**4 + b*t"
      ]
     },
     "execution_count": 95,
     "metadata": {},
     "output_type": "execute_result"
    }
   ],
   "source": [
    "y_func = (t**4 * a) + (b * t)\n",
    "y_func"
   ]
  },
  {
   "cell_type": "code",
   "execution_count": 96,
   "metadata": {},
   "outputs": [
    {
     "data": {
      "text/latex": [
       "$\\displaystyle x^{4} - 4$"
      ],
      "text/plain": [
       "x**4 - 4"
      ]
     },
     "execution_count": 96,
     "metadata": {},
     "output_type": "execute_result"
    }
   ],
   "source": [
    "t_func = x**4 - 4\n",
    "t_func"
   ]
  },
  {
   "cell_type": "code",
   "execution_count": 97,
   "metadata": {},
   "outputs": [
    {
     "data": {
      "text/latex": [
       "$\\displaystyle a \\left(x^{4} - 4\\right)^{4} + b \\left(x^{4} - 4\\right)$"
      ],
      "text/plain": [
       "a*(x**4 - 4)**4 + b*(x**4 - 4)"
      ]
     },
     "execution_count": 97,
     "metadata": {},
     "output_type": "execute_result"
    }
   ],
   "source": [
    "y_sub_t = y_func.subs(t, t_func)\n",
    "y_sub_t"
   ]
  },
  {
   "cell_type": "code",
   "execution_count": 98,
   "metadata": {},
   "outputs": [
    {
     "data": {
      "text/latex": [
       "$\\displaystyle 16 a x^{3} \\left(x^{4} - 4\\right)^{3} + 4 b x^{3}$"
      ],
      "text/plain": [
       "16*a*x**3*(x**4 - 4)**3 + 4*b*x**3"
      ]
     },
     "execution_count": 98,
     "metadata": {},
     "output_type": "execute_result"
    }
   ],
   "source": [
    "y_sub_t_diff = sym.diff(y_sub_t, x)\n",
    "y_sub_t_diff"
   ]
  },
  {
   "cell_type": "markdown",
   "metadata": {},
   "source": [
    "### 19"
   ]
  },
  {
   "cell_type": "code",
   "execution_count": 99,
   "metadata": {},
   "outputs": [
    {
     "data": {
      "text/latex": [
       "$\\displaystyle \\left(3 x - 5\\right) \\left(4 x - 3\\right)^{2}$"
      ],
      "text/plain": [
       "(3*x - 5)*(4*x - 3)**2"
      ]
     },
     "execution_count": 99,
     "metadata": {},
     "output_type": "execute_result"
    }
   ],
   "source": [
    "fx = (3*x - 5) * (4*x - 3)**2\n",
    "fx"
   ]
  },
  {
   "cell_type": "code",
   "execution_count": 100,
   "metadata": {},
   "outputs": [
    {
     "data": {
      "text/latex": [
       "$\\displaystyle -1331$"
      ],
      "text/plain": [
       "-1331"
      ]
     },
     "execution_count": 100,
     "metadata": {},
     "output_type": "execute_result"
    }
   ],
   "source": [
    "y_value = fx.subs(x, -2)\n",
    "y_value"
   ]
  },
  {
   "cell_type": "code",
   "execution_count": 101,
   "metadata": {},
   "outputs": [
    {
     "data": {
      "text/latex": [
       "$\\displaystyle \\left(3 x - 5\\right) \\left(32 x - 24\\right) + 3 \\left(4 x - 3\\right)^{2}$"
      ],
      "text/plain": [
       "(3*x - 5)*(32*x - 24) + 3*(4*x - 3)**2"
      ]
     },
     "execution_count": 101,
     "metadata": {},
     "output_type": "execute_result"
    }
   ],
   "source": [
    "slope = sym.diff(fx, x)\n",
    "slope"
   ]
  },
  {
   "cell_type": "code",
   "execution_count": 102,
   "metadata": {},
   "outputs": [
    {
     "data": {
      "text/latex": [
       "$\\displaystyle x_{1}$"
      ],
      "text/plain": [
       "x_1"
      ]
     },
     "execution_count": 102,
     "metadata": {},
     "output_type": "execute_result"
    }
   ],
   "source": [
    "x1, y1 = sym.symbols('x_1, y_2')\n",
    "x1"
   ]
  },
  {
   "cell_type": "code",
   "execution_count": 108,
   "metadata": {},
   "outputs": [
    {
     "data": {
      "text/latex": [
       "$\\displaystyle - y + y_{2} = \\left(- x + x_{1}\\right) \\left(\\left(3 x - 5\\right) \\left(32 x - 24\\right) + 3 \\left(4 x - 3\\right)^{2}\\right)$"
      ],
      "text/plain": [
       "Eq(-y + y_2, (-x + x_1)*((3*x - 5)*(32*x - 24) + 3*(4*x - 3)**2))"
      ]
     },
     "execution_count": 108,
     "metadata": {},
     "output_type": "execute_result"
    }
   ],
   "source": [
    "equation_of_the_tangent_to_the_curve = sym.Eq((y1 - y), (slope*(x1 - x)))\n",
    "equation_of_the_tangent_to_the_curve"
   ]
  },
  {
   "cell_type": "code",
   "execution_count": 110,
   "metadata": {},
   "outputs": [
    {
     "data": {
      "text/latex": [
       "$\\displaystyle y_{2} + 1331 = 1331 x_{1} + 2662$"
      ],
      "text/plain": [
       "Eq(y_2 + 1331, 1331*x_1 + 2662)"
      ]
     },
     "execution_count": 110,
     "metadata": {},
     "output_type": "execute_result"
    }
   ],
   "source": [
    "equation_of_the_tangent_to_the_curve.subs({x : -2, y : y_value})"
   ]
  },
  {
   "cell_type": "markdown",
   "metadata": {},
   "source": [
    "## Integration"
   ]
  },
  {
   "cell_type": "markdown",
   "metadata": {},
   "source": [
    "### 6"
   ]
  },
  {
   "cell_type": "code",
   "execution_count": 60,
   "metadata": {},
   "outputs": [],
   "source": [
    "x_range = np.linspace(-2, 2)"
   ]
  },
  {
   "cell_type": "code",
   "execution_count": 61,
   "metadata": {},
   "outputs": [
    {
     "data": {
      "text/latex": [
       "$\\displaystyle 4 x + 3 + \\frac{1}{x^{2}}$"
      ],
      "text/plain": [
       "4*x + 3 + x**(-2)"
      ]
     },
     "execution_count": 61,
     "metadata": {},
     "output_type": "execute_result"
    }
   ],
   "source": [
    "fx = 1 / x**2 + 4*x + 3\n",
    "fx"
   ]
  },
  {
   "cell_type": "code",
   "execution_count": 62,
   "metadata": {},
   "outputs": [
    {
     "data": {
      "text/latex": [
       "$\\displaystyle 2 x^{2} + 3 x - \\frac{1}{x}$"
      ],
      "text/plain": [
       "2*x**2 + 3*x - 1/x"
      ]
     },
     "execution_count": 62,
     "metadata": {},
     "output_type": "execute_result"
    }
   ],
   "source": [
    "fx_integrate = sym.integrate(fx)\n",
    "fx_integrate"
   ]
  },
  {
   "cell_type": "code",
   "execution_count": 63,
   "metadata": {},
   "outputs": [],
   "source": [
    "fx_numerical = sym.lambdify(x, fx, 'numpy')\n",
    "fx_y_range = fx_numerical(x_range)"
   ]
  },
  {
   "cell_type": "code",
   "execution_count": 64,
   "metadata": {},
   "outputs": [],
   "source": [
    "fx_integrate_numerical = sym.lambdify(x, fx_integrate, 'numpy')\n",
    "fx_integrate_y_range = fx_integrate_numerical(x_range)"
   ]
  },
  {
   "cell_type": "code",
   "execution_count": 65,
   "metadata": {},
   "outputs": [
    {
     "data": {
      "image/png": "[encoded data removed]",
      "text/plain": [
       "<Figure size 640x480 with 1 Axes>"
      ]
     },
     "metadata": {},
     "output_type": "display_data"
    }
   ],
   "source": [
    "plt.figure()\n",
    "plt.plot(x_range, fx_y_range, label = 'fx')\n",
    "plt.plot(x_range, fx_integrate_y_range, label='fx_integrate')\n",
    "plt.fill_between(x_range, fx_integrate_y_range)\n",
    "plt.legend()\n",
    "plt.show()"
   ]
  },
  {
   "cell_type": "markdown",
   "metadata": {},
   "source": [
    "### 7"
   ]
  },
  {
   "cell_type": "code",
   "execution_count": 52,
   "metadata": {},
   "outputs": [
    {
     "data": {
      "text/latex": [
       "$\\displaystyle \\frac{1 - x}{\\left(x + 1\\right)^{2}}$"
      ],
      "text/plain": [
       "(1 - x)/(x + 1)**2"
      ]
     },
     "execution_count": 52,
     "metadata": {},
     "output_type": "execute_result"
    }
   ],
   "source": [
    "fx = 1 / (1 + x)**2 * (1 - x)\n",
    "fx"
   ]
  },
  {
   "cell_type": "code",
   "execution_count": 59,
   "metadata": {},
   "outputs": [
    {
     "data": {
      "text/latex": [
       "$\\displaystyle - \\log{\\left(x + 1 \\right)} - \\frac{2}{x + 1}$"
      ],
      "text/plain": [
       "-log(x + 1) - 2/(x + 1)"
      ]
     },
     "execution_count": 59,
     "metadata": {},
     "output_type": "execute_result"
    }
   ],
   "source": [
    "fx_integrate = sym.integrate(fx)\n",
    "fx_integrate"
   ]
  },
  {
   "cell_type": "markdown",
   "metadata": {},
   "source": [
    "### 8"
   ]
  },
  {
   "cell_type": "code",
   "execution_count": 66,
   "metadata": {},
   "outputs": [
    {
     "data": {
      "text/latex": [
       "$\\displaystyle x^{3} + 1$"
      ],
      "text/plain": [
       "x**3 + 1"
      ]
     },
     "execution_count": 66,
     "metadata": {},
     "output_type": "execute_result"
    }
   ],
   "source": [
    "fx = x**3 + 1\n",
    "fx"
   ]
  },
  {
   "cell_type": "code",
   "execution_count": 67,
   "metadata": {},
   "outputs": [
    {
     "data": {
      "text/latex": [
       "$\\displaystyle \\frac{69}{4}$"
      ],
      "text/plain": [
       "69/4"
      ]
     },
     "execution_count": 67,
     "metadata": {},
     "output_type": "execute_result"
    }
   ],
   "source": [
    "fx_integrate = sym.integrate(fx, (x, 2, 3))\n",
    "fx_integrate"
   ]
  },
  {
   "cell_type": "markdown",
   "metadata": {},
   "source": [
    "### 9"
   ]
  },
  {
   "cell_type": "code",
   "execution_count": 72,
   "metadata": {},
   "outputs": [
    {
     "data": {
      "text/plain": [
       "[(0, 0),\n",
       " (1, 1),\n",
       " ((-1/2 - sqrt(3)*I/2)**2, -1/2 - sqrt(3)*I/2),\n",
       " ((-1/2 + sqrt(3)*I/2)**2, -1/2 + sqrt(3)*I/2)]"
      ]
     },
     "execution_count": 72,
     "metadata": {},
     "output_type": "execute_result"
    }
   ],
   "source": [
    "curve1 = sym.Eq(y, x**2)\n",
    "curve2 = sym.Eq(y**2, x)  \n",
    "\n",
    "intesection_points = sym.solve([curve1, curve2], (x, y))\n",
    "intesection_points"
   ]
  },
  {
   "cell_type": "code",
   "execution_count": 70,
   "metadata": {},
   "outputs": [
    {
     "data": {
      "text/latex": [
       "$\\displaystyle x^{0.5}$"
      ],
      "text/plain": [
       "x**0.5"
      ]
     },
     "execution_count": 70,
     "metadata": {},
     "output_type": "execute_result"
    }
   ],
   "source": [
    "fx = x**2\n",
    "fx_2 = x**(1/2)\n",
    "fx_2"
   ]
  },
  {
   "cell_type": "code",
   "execution_count": 77,
   "metadata": {},
   "outputs": [
    {
     "data": {
      "text/latex": [
       "$\\displaystyle 0.333333333333333$"
      ],
      "text/plain": [
       "0.333333333333333"
      ]
     },
     "execution_count": 77,
     "metadata": {},
     "output_type": "execute_result"
    }
   ],
   "source": [
    "fx_integrate = sym.integrate(fx_2 - fx, (x, 0, 1))\n",
    "fx_integrate"
   ]
  },
  {
   "cell_type": "markdown",
   "metadata": {},
   "source": [
    "### 10"
   ]
  },
  {
   "cell_type": "code",
   "execution_count": 78,
   "metadata": {},
   "outputs": [
    {
     "data": {
      "text/latex": [
       "$\\displaystyle 9 + \\frac{1}{x}$"
      ],
      "text/plain": [
       "9 + 1/x"
      ]
     },
     "execution_count": 78,
     "metadata": {},
     "output_type": "execute_result"
    }
   ],
   "source": [
    "fx = x**2 / x**3 + 9\n",
    "fx"
   ]
  },
  {
   "cell_type": "code",
   "execution_count": 83,
   "metadata": {},
   "outputs": [
    {
     "data": {
      "text/latex": [
       "$\\displaystyle \\infty$"
      ],
      "text/plain": [
       "oo"
      ]
     },
     "execution_count": 83,
     "metadata": {},
     "output_type": "execute_result"
    }
   ],
   "source": [
    "fx_integrate = sym.integrate(fx, (x, 0, 1))\n",
    "fx_integrate"
   ]
  },
  {
   "cell_type": "markdown",
   "metadata": {},
   "source": [
    "### 11"
   ]
  },
  {
   "cell_type": "code",
   "execution_count": 84,
   "metadata": {},
   "outputs": [
    {
     "data": {
      "text/latex": [
       "$\\displaystyle x \\sin{\\left(x \\right)}$"
      ],
      "text/plain": [
       "x*sin(x)"
      ]
     },
     "execution_count": 84,
     "metadata": {},
     "output_type": "execute_result"
    }
   ],
   "source": [
    "fx = x * sym.sin(x)\n",
    "fx"
   ]
  },
  {
   "cell_type": "code",
   "execution_count": 85,
   "metadata": {},
   "outputs": [
    {
     "data": {
      "text/latex": [
       "$\\displaystyle - \\cos{\\left(1 \\right)} + \\sin{\\left(1 \\right)}$"
      ],
      "text/plain": [
       "-cos(1) + sin(1)"
      ]
     },
     "execution_count": 85,
     "metadata": {},
     "output_type": "execute_result"
    }
   ],
   "source": [
    "fx_integrate = sym.integrate(fx, (x, 0, 1))\n",
    "fx_integrate"
   ]
  },
  {
   "cell_type": "markdown",
   "metadata": {},
   "source": [
    "## Partial Differentiation"
   ]
  },
  {
   "cell_type": "markdown",
   "metadata": {},
   "source": [
    "### 12"
   ]
  },
  {
   "cell_type": "code",
   "execution_count": 86,
   "metadata": {},
   "outputs": [
    {
     "data": {
      "text/latex": [
       "$\\displaystyle t$"
      ],
      "text/plain": [
       "t"
      ]
     },
     "execution_count": 86,
     "metadata": {},
     "output_type": "execute_result"
    }
   ],
   "source": [
    "t = sym.symbols('t')\n",
    "t"
   ]
  },
  {
   "cell_type": "code",
   "execution_count": 87,
   "metadata": {},
   "outputs": [
    {
     "data": {
      "text/latex": [
       "$\\displaystyle - 5 t x^{2}$"
      ],
      "text/plain": [
       "-5*t*x**2"
      ]
     },
     "execution_count": 87,
     "metadata": {},
     "output_type": "execute_result"
    }
   ],
   "source": [
    "fx = -5 * x**2 * t\n",
    "fx"
   ]
  },
  {
   "cell_type": "code",
   "execution_count": 88,
   "metadata": {},
   "outputs": [
    {
     "data": {
      "text/latex": [
       "$\\displaystyle 50 t x^{3}$"
      ],
      "text/plain": [
       "50*t*x**3"
      ]
     },
     "execution_count": 88,
     "metadata": {},
     "output_type": "execute_result"
    }
   ],
   "source": [
    "sym.diff(fx, x) * sym.diff(fx, t)"
   ]
  },
  {
   "cell_type": "markdown",
   "metadata": {},
   "source": [
    "### 13"
   ]
  },
  {
   "cell_type": "code",
   "execution_count": 89,
   "metadata": {},
   "outputs": [],
   "source": [
    "s, k = sym.symbols('s, k')"
   ]
  },
  {
   "cell_type": "code",
   "execution_count": 90,
   "metadata": {},
   "outputs": [
    {
     "data": {
      "text/latex": [
       "$\\displaystyle - 27 k^{2} s^{4}$"
      ],
      "text/plain": [
       "-27*k**2*s**4"
      ]
     },
     "execution_count": 90,
     "metadata": {},
     "output_type": "execute_result"
    }
   ],
   "source": [
    "fx = -27 * s**4 * k**2\n",
    "fx"
   ]
  },
  {
   "cell_type": "code",
   "execution_count": 91,
   "metadata": {},
   "outputs": [
    {
     "data": {
      "text/latex": [
       "$\\displaystyle - 108 k^{2} s^{3}$"
      ],
      "text/plain": [
       "-108*k**2*s**3"
      ]
     },
     "execution_count": 91,
     "metadata": {},
     "output_type": "execute_result"
    }
   ],
   "source": [
    "sym.diff(fx, s)"
   ]
  },
  {
   "cell_type": "code",
   "execution_count": 92,
   "metadata": {},
   "outputs": [
    {
     "data": {
      "text/latex": [
       "$\\displaystyle - 54 k s^{4}$"
      ],
      "text/plain": [
       "-54*k*s**4"
      ]
     },
     "execution_count": 92,
     "metadata": {},
     "output_type": "execute_result"
    }
   ],
   "source": [
    "sym.diff(fx, k)"
   ]
  },
  {
   "cell_type": "markdown",
   "metadata": {},
   "source": [
    "### 20"
   ]
  },
  {
   "cell_type": "code",
   "execution_count": 113,
   "metadata": {},
   "outputs": [
    {
     "data": {
      "text/latex": [
       "$\\displaystyle \\theta$"
      ],
      "text/plain": [
       "theta"
      ]
     },
     "execution_count": 113,
     "metadata": {},
     "output_type": "execute_result"
    }
   ],
   "source": [
    "r, theta = sym.symbols('r, theta')\n",
    "theta"
   ]
  },
  {
   "cell_type": "code",
   "execution_count": 114,
   "metadata": {},
   "outputs": [
    {
     "data": {
      "text/latex": [
       "$\\displaystyle e^{r \\sin{\\left(\\theta \\right)}} \\cos{\\left(\\theta \\right)}$"
      ],
      "text/plain": [
       "exp(r*sin(theta))*cos(theta)"
      ]
     },
     "execution_count": 114,
     "metadata": {},
     "output_type": "execute_result"
    }
   ],
   "source": [
    "fx = sym.E**(r*sym.sin(theta)) * sym.cos(theta)\n",
    "fx"
   ]
  },
  {
   "cell_type": "code",
   "execution_count": 115,
   "metadata": {},
   "outputs": [
    {
     "data": {
      "text/latex": [
       "$\\displaystyle e^{r \\sin{\\left(\\theta \\right)}} \\sin{\\left(\\theta \\right)} \\cos{\\left(\\theta \\right)}$"
      ],
      "text/plain": [
       "exp(r*sin(theta))*sin(theta)*cos(theta)"
      ]
     },
     "execution_count": 115,
     "metadata": {},
     "output_type": "execute_result"
    }
   ],
   "source": [
    "sym.diff(fx, r)"
   ]
  },
  {
   "cell_type": "code",
   "execution_count": 116,
   "metadata": {},
   "outputs": [
    {
     "data": {
      "text/latex": [
       "$\\displaystyle r e^{r \\sin{\\left(\\theta \\right)}} \\cos^{2}{\\left(\\theta \\right)} - e^{r \\sin{\\left(\\theta \\right)}} \\sin{\\left(\\theta \\right)}$"
      ],
      "text/plain": [
       "r*exp(r*sin(theta))*cos(theta)**2 - exp(r*sin(theta))*sin(theta)"
      ]
     },
     "execution_count": 116,
     "metadata": {},
     "output_type": "execute_result"
    }
   ],
   "source": [
    "sym.diff(fx, theta)"
   ]
  },
  {
   "cell_type": "markdown",
   "metadata": {},
   "source": [
    "### 21 tbs"
   ]
  },
  {
   "cell_type": "code",
   "execution_count": 119,
   "metadata": {},
   "outputs": [
    {
     "data": {
      "text/latex": [
       "$\\displaystyle u{\\left(x \\right)}$"
      ],
      "text/plain": [
       "u(x)"
      ]
     },
     "execution_count": 119,
     "metadata": {},
     "output_type": "execute_result"
    }
   ],
   "source": [
    "u = sym.Function('u')(x)\n",
    "u"
   ]
  },
  {
   "cell_type": "code",
   "execution_count": 121,
   "metadata": {},
   "outputs": [
    {
     "data": {
      "text/latex": [
       "$\\displaystyle u{\\left(x \\right)} = \\left(- 2 x y + y^{2} + 1\\right)^{-0.5}$"
      ],
      "text/plain": [
       "Eq(u(x), (-2*x*y + y**2 + 1)**(-0.5))"
      ]
     },
     "execution_count": 121,
     "metadata": {},
     "output_type": "execute_result"
    }
   ],
   "source": [
    "fx = sym.Eq(u, ((1 - 2*x*y + y**2)**(-1/2)))\n",
    "fx"
   ]
  },
  {
   "cell_type": "code",
   "execution_count": null,
   "metadata": {},
   "outputs": [],
   "source": [
    "lhs = x * sym.diff()"
   ]
  },
  {
   "cell_type": "markdown",
   "metadata": {},
   "source": [
    "## Sequences and Series "
   ]
  },
  {
   "cell_type": "markdown",
   "metadata": {},
   "source": [
    "### 24"
   ]
  },
  {
   "cell_type": "code",
   "execution_count": 123,
   "metadata": {},
   "outputs": [
    {
     "data": {
      "text/latex": [
       "$\\displaystyle \\frac{r + 2}{r + 1}$"
      ],
      "text/plain": [
       "(r + 2)/(r + 1)"
      ]
     },
     "execution_count": 123,
     "metadata": {},
     "output_type": "execute_result"
    }
   ],
   "source": [
    "fx = 1 / (r + 1) * (r + 2)\n",
    "fx"
   ]
  },
  {
   "cell_type": "code",
   "execution_count": 124,
   "metadata": {},
   "outputs": [
    {
     "data": {
      "text/latex": [
       "$\\displaystyle 1 + \\frac{1}{r + 1}$"
      ],
      "text/plain": [
       "1 + 1/(r + 1)"
      ]
     },
     "execution_count": 124,
     "metadata": {},
     "output_type": "execute_result"
    }
   ],
   "source": [
    "sym.apart(fx)"
   ]
  },
  {
   "cell_type": "code",
   "execution_count": 130,
   "metadata": {},
   "outputs": [
    {
     "data": {
      "text/latex": [
       "$\\displaystyle \\frac{1}{\\left(r + 1\\right) \\left(r + 2\\right)}$"
      ],
      "text/plain": [
       "1/((r + 1)*(r + 2))"
      ]
     },
     "execution_count": 130,
     "metadata": {},
     "output_type": "execute_result"
    }
   ],
   "source": [
    "fx = sym.Rational(1, 1) / ((r + 1) * (r + 2))\n",
    "fx"
   ]
  },
  {
   "cell_type": "code",
   "execution_count": 131,
   "metadata": {},
   "outputs": [
    {
     "data": {
      "text/plain": [
       "[1/6, 1/12, 1/20, 1/30, 1/42, 1/56, 1/72, 1/90, 1/110, 1/132]"
      ]
     },
     "execution_count": 131,
     "metadata": {},
     "output_type": "execute_result"
    }
   ],
   "source": [
    "[fx.subs(r, i) for i in range(1, 11)]"
   ]
  },
  {
   "cell_type": "code",
   "execution_count": 132,
   "metadata": {},
   "outputs": [
    {
     "data": {
      "text/latex": [
       "$\\displaystyle n$"
      ],
      "text/plain": [
       "n"
      ]
     },
     "execution_count": 132,
     "metadata": {},
     "output_type": "execute_result"
    }
   ],
   "source": [
    "n = sym.symbols('n')\n",
    "n"
   ]
  },
  {
   "cell_type": "code",
   "execution_count": 133,
   "metadata": {},
   "outputs": [
    {
     "data": {
      "text/latex": [
       "$\\displaystyle \\frac{1}{2} - \\frac{1}{n + 2}$"
      ],
      "text/plain": [
       "1/2 - 1/(n + 2)"
      ]
     },
     "execution_count": 133,
     "metadata": {},
     "output_type": "execute_result"
    }
   ],
   "source": [
    "sym.summation(fx, (r, 1, n))"
   ]
  },
  {
   "cell_type": "code",
   "execution_count": 139,
   "metadata": {},
   "outputs": [
    {
     "data": {
      "text/latex": [
       "$\\displaystyle \\frac{1}{2}$"
      ],
      "text/plain": [
       "1/2"
      ]
     },
     "execution_count": 139,
     "metadata": {},
     "output_type": "execute_result"
    }
   ],
   "source": [
    "sym.summation(fx, (r, 1, sym.oo))"
   ]
  },
  {
   "cell_type": "code",
   "execution_count": 138,
   "metadata": {},
   "outputs": [
    {
     "data": {
      "text/latex": [
       "$\\displaystyle \\text{False}$"
      ],
      "text/plain": [
       "False"
      ]
     },
     "execution_count": 138,
     "metadata": {},
     "output_type": "execute_result"
    }
   ],
   "source": [
    "sym.Sum(fx, (n, 1, sym.oo)).is_convergent()"
   ]
  },
  {
   "cell_type": "code",
   "execution_count": 146,
   "metadata": {},
   "outputs": [
    {
     "data": {
      "text/plain": [
       "[0.166666666666667,\n",
       " 0.250000000000000,\n",
       " 0.300000000000000,\n",
       " 0.333333333333333,\n",
       " 0.357142857142857,\n",
       " 0.375000000000000,\n",
       " 0.388888888888889,\n",
       " 0.400000000000000,\n",
       " 0.409090909090909,\n",
       " 0.416666666666667,\n",
       " 0.423076923076923,\n",
       " 0.428571428571429,\n",
       " 0.433333333333333,\n",
       " 0.437500000000000,\n",
       " 0.441176470588235,\n",
       " 0.444444444444444,\n",
       " 0.447368421052632,\n",
       " 0.450000000000000,\n",
       " 0.452380952380952,\n",
       " 0.454545454545455,\n",
       " 0.456521739130435,\n",
       " 0.458333333333333,\n",
       " 0.460000000000000,\n",
       " 0.461538461538462,\n",
       " 0.462962962962963,\n",
       " 0.464285714285714,\n",
       " 0.465517241379310,\n",
       " 0.466666666666667,\n",
       " 0.467741935483871,\n",
       " 0.468750000000000,\n",
       " 0.469696969696970,\n",
       " 0.470588235294118,\n",
       " 0.471428571428571,\n",
       " 0.472222222222222,\n",
       " 0.472972972972973,\n",
       " 0.473684210526316,\n",
       " 0.474358974358974,\n",
       " 0.475000000000000,\n",
       " 0.475609756097561,\n",
       " 0.476190476190476,\n",
       " 0.476744186046512,\n",
       " 0.477272727272727,\n",
       " 0.477777777777778,\n",
       " 0.478260869565217,\n",
       " 0.478723404255319,\n",
       " 0.479166666666667,\n",
       " 0.479591836734694,\n",
       " 0.480000000000000,\n",
       " 0.480392156862745,\n",
       " 0.480769230769231,\n",
       " 0.481132075471698,\n",
       " 0.481481481481481,\n",
       " 0.481818181818182,\n",
       " 0.482142857142857,\n",
       " 0.482456140350877,\n",
       " 0.482758620689655,\n",
       " 0.483050847457627,\n",
       " 0.483333333333333,\n",
       " 0.483606557377049,\n",
       " 0.483870967741935,\n",
       " 0.484126984126984,\n",
       " 0.484375000000000,\n",
       " 0.484615384615385,\n",
       " 0.484848484848485,\n",
       " 0.485074626865672,\n",
       " 0.485294117647059,\n",
       " 0.485507246376812,\n",
       " 0.485714285714286,\n",
       " 0.485915492957746,\n",
       " 0.486111111111111,\n",
       " 0.486301369863014,\n",
       " 0.486486486486487,\n",
       " 0.486666666666667,\n",
       " 0.486842105263158,\n",
       " 0.487012987012987,\n",
       " 0.487179487179487,\n",
       " 0.487341772151899,\n",
       " 0.487500000000000,\n",
       " 0.487654320987654,\n",
       " 0.487804878048780,\n",
       " 0.487951807228916,\n",
       " 0.488095238095238,\n",
       " 0.488235294117647,\n",
       " 0.488372093023256,\n",
       " 0.488505747126437,\n",
       " 0.488636363636364,\n",
       " 0.488764044943820,\n",
       " 0.488888888888889,\n",
       " 0.489010989010989,\n",
       " 0.489130434782609,\n",
       " 0.489247311827957,\n",
       " 0.489361702127660,\n",
       " 0.489473684210526,\n",
       " 0.489583333333333,\n",
       " 0.489690721649485,\n",
       " 0.489795918367347,\n",
       " 0.489898989898990,\n",
       " 0.490000000000000,\n",
       " 0.490099009900990,\n",
       " 0.490196078431373,\n",
       " 0.490291262135922,\n",
       " 0.490384615384615,\n",
       " 0.490476190476190,\n",
       " 0.490566037735849,\n",
       " 0.490654205607477,\n",
       " 0.490740740740741,\n",
       " 0.490825688073394,\n",
       " 0.490909090909091,\n",
       " 0.490990990990991,\n",
       " 0.491071428571429,\n",
       " 0.491150442477876,\n",
       " 0.491228070175439,\n",
       " 0.491304347826087,\n",
       " 0.491379310344828,\n",
       " 0.491452991452991,\n",
       " 0.491525423728814,\n",
       " 0.491596638655462,\n",
       " 0.491666666666667,\n",
       " 0.491735537190083,\n",
       " 0.491803278688525,\n",
       " 0.491869918699187,\n",
       " 0.491935483870968,\n",
       " 0.492000000000000,\n",
       " 0.492063492063492,\n",
       " 0.492125984251969,\n",
       " 0.492187500000000,\n",
       " 0.492248062015504,\n",
       " 0.492307692307692,\n",
       " 0.492366412213740,\n",
       " 0.492424242424242,\n",
       " 0.492481203007519,\n",
       " 0.492537313432836,\n",
       " 0.492592592592593,\n",
       " 0.492647058823529,\n",
       " 0.492700729927007,\n",
       " 0.492753623188406,\n",
       " 0.492805755395683,\n",
       " 0.492857142857143,\n",
       " 0.492907801418440,\n",
       " 0.492957746478873,\n",
       " 0.493006993006993,\n",
       " 0.493055555555556,\n",
       " 0.493103448275862,\n",
       " 0.493150684931507,\n",
       " 0.493197278911565,\n",
       " 0.493243243243243,\n",
       " 0.493288590604027,\n",
       " 0.493333333333333,\n",
       " 0.493377483443709,\n",
       " 0.493421052631579,\n",
       " 0.493464052287582,\n",
       " 0.493506493506494,\n",
       " 0.493548387096774,\n",
       " 0.493589743589744,\n",
       " 0.493630573248408,\n",
       " 0.493670886075949,\n",
       " 0.493710691823899,\n",
       " 0.493750000000000,\n",
       " 0.493788819875776,\n",
       " 0.493827160493827,\n",
       " 0.493865030674847,\n",
       " 0.493902439024390,\n",
       " 0.493939393939394,\n",
       " 0.493975903614458,\n",
       " 0.494011976047904,\n",
       " 0.494047619047619,\n",
       " 0.494082840236686,\n",
       " 0.494117647058824,\n",
       " 0.494152046783626,\n",
       " 0.494186046511628,\n",
       " 0.494219653179191,\n",
       " 0.494252873563218,\n",
       " 0.494285714285714,\n",
       " 0.494318181818182,\n",
       " 0.494350282485876,\n",
       " 0.494382022471910,\n",
       " 0.494413407821229,\n",
       " 0.494444444444444,\n",
       " 0.494475138121547,\n",
       " 0.494505494505495,\n",
       " 0.494535519125683,\n",
       " 0.494565217391304,\n",
       " 0.494594594594595,\n",
       " 0.494623655913978,\n",
       " 0.494652406417112,\n",
       " 0.494680851063830,\n",
       " 0.494708994708995,\n",
       " 0.494736842105263,\n",
       " 0.494764397905759,\n",
       " 0.494791666666667,\n",
       " 0.494818652849741,\n",
       " 0.494845360824742,\n",
       " 0.494871794871795,\n",
       " 0.494897959183673,\n",
       " 0.494923857868020,\n",
       " 0.494949494949495,\n",
       " 0.494974874371859,\n",
       " 0.495000000000000,\n",
       " 0.495024875621891,\n",
       " 0.495049504950495,\n",
       " 0.495073891625616,\n",
       " 0.495098039215686,\n",
       " 0.495121951219512,\n",
       " 0.495145631067961,\n",
       " 0.495169082125604,\n",
       " 0.495192307692308,\n",
       " 0.495215311004785,\n",
       " 0.495238095238095,\n",
       " 0.495260663507109,\n",
       " 0.495283018867925,\n",
       " 0.495305164319249,\n",
       " 0.495327102803738,\n",
       " 0.495348837209302,\n",
       " 0.495370370370370,\n",
       " 0.495391705069124,\n",
       " 0.495412844036697,\n",
       " 0.495433789954338,\n",
       " 0.495454545454545,\n",
       " 0.495475113122172,\n",
       " 0.495495495495495,\n",
       " 0.495515695067265,\n",
       " 0.495535714285714,\n",
       " 0.495555555555556,\n",
       " 0.495575221238938,\n",
       " 0.495594713656388,\n",
       " 0.495614035087719,\n",
       " 0.495633187772926,\n",
       " 0.495652173913044,\n",
       " 0.495670995670996,\n",
       " 0.495689655172414,\n",
       " 0.495708154506438,\n",
       " 0.495726495726496,\n",
       " 0.495744680851064,\n",
       " 0.495762711864407,\n",
       " 0.495780590717300,\n",
       " 0.495798319327731,\n",
       " 0.495815899581590,\n",
       " 0.495833333333333,\n",
       " 0.495850622406639,\n",
       " 0.495867768595041,\n",
       " 0.495884773662551,\n",
       " 0.495901639344262,\n",
       " 0.495918367346939,\n",
       " 0.495934959349593,\n",
       " 0.495951417004049,\n",
       " 0.495967741935484,\n",
       " 0.495983935742972,\n",
       " 0.496000000000000,\n",
       " 0.496015936254980,\n",
       " 0.496031746031746,\n",
       " 0.496047430830040,\n",
       " 0.496062992125984,\n",
       " 0.496078431372549,\n",
       " 0.496093750000000,\n",
       " 0.496108949416342,\n",
       " 0.496124031007752,\n",
       " 0.496138996138996,\n",
       " 0.496153846153846,\n",
       " 0.496168582375479,\n",
       " 0.496183206106870,\n",
       " 0.496197718631179,\n",
       " 0.496212121212121,\n",
       " 0.496226415094340,\n",
       " 0.496240601503759,\n",
       " 0.496254681647940,\n",
       " 0.496268656716418,\n",
       " 0.496282527881041,\n",
       " 0.496296296296296,\n",
       " 0.496309963099631,\n",
       " 0.496323529411765,\n",
       " 0.496336996336996,\n",
       " 0.496350364963504,\n",
       " 0.496363636363636,\n",
       " 0.496376811594203,\n",
       " 0.496389891696751,\n",
       " 0.496402877697842,\n",
       " 0.496415770609319,\n",
       " 0.496428571428571,\n",
       " 0.496441281138790,\n",
       " 0.496453900709220,\n",
       " 0.496466431095406,\n",
       " 0.496478873239437,\n",
       " 0.496491228070175,\n",
       " 0.496503496503497,\n",
       " 0.496515679442509,\n",
       " 0.496527777777778,\n",
       " 0.496539792387543,\n",
       " 0.496551724137931,\n",
       " 0.496563573883162,\n",
       " 0.496575342465753,\n",
       " 0.496587030716724,\n",
       " 0.496598639455782,\n",
       " 0.496610169491525,\n",
       " 0.496621621621622,\n",
       " 0.496632996632997,\n",
       " 0.496644295302013,\n",
       " 0.496655518394649,\n",
       " 0.496666666666667,\n",
       " 0.496677740863787,\n",
       " 0.496688741721854,\n",
       " 0.496699669966997,\n",
       " 0.496710526315789,\n",
       " 0.496721311475410,\n",
       " 0.496732026143791,\n",
       " 0.496742671009772,\n",
       " 0.496753246753247,\n",
       " 0.496763754045307,\n",
       " 0.496774193548387,\n",
       " 0.496784565916399,\n",
       " 0.496794871794872,\n",
       " 0.496805111821086,\n",
       " 0.496815286624204,\n",
       " 0.496825396825397,\n",
       " 0.496835443037975,\n",
       " 0.496845425867508,\n",
       " 0.496855345911950,\n",
       " 0.496865203761755,\n",
       " 0.496875000000000,\n",
       " 0.496884735202492,\n",
       " 0.496894409937888,\n",
       " 0.496904024767802,\n",
       " 0.496913580246914,\n",
       " 0.496923076923077,\n",
       " 0.496932515337423,\n",
       " 0.496941896024465,\n",
       " 0.496951219512195,\n",
       " 0.496960486322188,\n",
       " 0.496969696969697,\n",
       " 0.496978851963746,\n",
       " 0.496987951807229,\n",
       " 0.496996996996997,\n",
       " 0.497005988023952,\n",
       " 0.497014925373134,\n",
       " 0.497023809523810,\n",
       " 0.497032640949555,\n",
       " 0.497041420118343,\n",
       " 0.497050147492625,\n",
       " 0.497058823529412,\n",
       " 0.497067448680352,\n",
       " 0.497076023391813,\n",
       " 0.497084548104956,\n",
       " 0.497093023255814,\n",
       " 0.497101449275362,\n",
       " 0.497109826589595,\n",
       " 0.497118155619597,\n",
       " 0.497126436781609,\n",
       " 0.497134670487106,\n",
       " 0.497142857142857,\n",
       " 0.497150997150997,\n",
       " 0.497159090909091,\n",
       " 0.497167138810198,\n",
       " 0.497175141242938,\n",
       " 0.497183098591549,\n",
       " 0.497191011235955,\n",
       " 0.497198879551821,\n",
       " 0.497206703910615,\n",
       " 0.497214484679666,\n",
       " 0.497222222222222,\n",
       " 0.497229916897507,\n",
       " 0.497237569060773,\n",
       " 0.497245179063361,\n",
       " 0.497252747252747,\n",
       " 0.497260273972603,\n",
       " 0.497267759562842,\n",
       " 0.497275204359673,\n",
       " 0.497282608695652,\n",
       " 0.497289972899729,\n",
       " 0.497297297297297,\n",
       " 0.497304582210243,\n",
       " 0.497311827956989,\n",
       " 0.497319034852547,\n",
       " 0.497326203208556,\n",
       " 0.497333333333333,\n",
       " 0.497340425531915,\n",
       " 0.497347480106101,\n",
       " 0.497354497354497,\n",
       " 0.497361477572559,\n",
       " 0.497368421052632,\n",
       " 0.497375328083989,\n",
       " 0.497382198952880,\n",
       " 0.497389033942559,\n",
       " 0.497395833333333,\n",
       " 0.497402597402597,\n",
       " 0.497409326424870,\n",
       " 0.497416020671835,\n",
       " 0.497422680412371,\n",
       " 0.497429305912596,\n",
       " 0.497435897435897,\n",
       " 0.497442455242967,\n",
       " 0.497448979591837,\n",
       " 0.497455470737913,\n",
       " 0.497461928934010,\n",
       " 0.497468354430380,\n",
       " 0.497474747474747,\n",
       " 0.497481108312343,\n",
       " 0.497487437185930,\n",
       " 0.497493734335840,\n",
       " 0.497500000000000,\n",
       " 0.497506234413965,\n",
       " 0.497512437810945,\n",
       " 0.497518610421836,\n",
       " 0.497524752475248,\n",
       " 0.497530864197531,\n",
       " 0.497536945812808,\n",
       " 0.497542997542998,\n",
       " 0.497549019607843,\n",
       " 0.497555012224939,\n",
       " 0.497560975609756,\n",
       " 0.497566909975669,\n",
       " 0.497572815533981,\n",
       " 0.497578692493947,\n",
       " 0.497584541062802,\n",
       " 0.497590361445783,\n",
       " 0.497596153846154,\n",
       " 0.497601918465228,\n",
       " 0.497607655502392,\n",
       " 0.497613365155131,\n",
       " 0.497619047619048,\n",
       " 0.497624703087886,\n",
       " 0.497630331753554,\n",
       " 0.497635933806147,\n",
       " 0.497641509433962,\n",
       " 0.497647058823529,\n",
       " 0.497652582159624,\n",
       " 0.497658079625293,\n",
       " 0.497663551401869,\n",
       " 0.497668997668998,\n",
       " 0.497674418604651,\n",
       " 0.497679814385151,\n",
       " 0.497685185185185,\n",
       " 0.497690531177829,\n",
       " 0.497695852534562,\n",
       " 0.497701149425287,\n",
       " 0.497706422018349,\n",
       " 0.497711670480549,\n",
       " 0.497716894977169,\n",
       " 0.497722095671982,\n",
       " 0.497727272727273,\n",
       " 0.497732426303855,\n",
       " 0.497737556561086,\n",
       " 0.497742663656885,\n",
       " 0.497747747747748,\n",
       " 0.497752808988764,\n",
       " 0.497757847533632,\n",
       " 0.497762863534676,\n",
       " 0.497767857142857,\n",
       " 0.497772828507795,\n",
       " 0.497777777777778,\n",
       " 0.497782705099778,\n",
       " 0.497787610619469,\n",
       " 0.497792494481236,\n",
       " 0.497797356828194,\n",
       " 0.497802197802198,\n",
       " 0.497807017543860,\n",
       " 0.497811816192560,\n",
       " 0.497816593886463,\n",
       " 0.497821350762527,\n",
       " 0.497826086956522,\n",
       " 0.497830802603037,\n",
       " 0.497835497835498,\n",
       " 0.497840172786177,\n",
       " 0.497844827586207,\n",
       " 0.497849462365591,\n",
       " 0.497854077253219,\n",
       " 0.497858672376874,\n",
       " 0.497863247863248,\n",
       " 0.497867803837953,\n",
       " 0.497872340425532,\n",
       " 0.497876857749469,\n",
       " 0.497881355932203,\n",
       " 0.497885835095137,\n",
       " 0.497890295358650,\n",
       " 0.497894736842105,\n",
       " 0.497899159663866,\n",
       " 0.497903563941300,\n",
       " 0.497907949790795,\n",
       " 0.497912317327766,\n",
       " 0.497916666666667,\n",
       " 0.497920997920998,\n",
       " 0.497925311203320,\n",
       " 0.497929606625259,\n",
       " 0.497933884297521,\n",
       " 0.497938144329897,\n",
       " 0.497942386831276,\n",
       " 0.497946611909651,\n",
       " 0.497950819672131,\n",
       " 0.497955010224949,\n",
       " 0.497959183673469,\n",
       " 0.497963340122200,\n",
       " 0.497967479674797,\n",
       " 0.497971602434077,\n",
       " 0.497975708502024,\n",
       " 0.497979797979798,\n",
       " 0.497983870967742,\n",
       " 0.497987927565392,\n",
       " 0.497991967871486,\n",
       " 0.497995991983968,\n",
       " 0.498000000000000,\n",
       " 0.498003992015968,\n",
       " 0.498007968127490,\n",
       " 0.498011928429423,\n",
       " 0.498015873015873,\n",
       " 0.498019801980198,\n",
       " 0.498023715415020,\n",
       " 0.498027613412229,\n",
       " 0.498031496062992,\n",
       " 0.498035363457760,\n",
       " 0.498039215686275,\n",
       " 0.498043052837573,\n",
       " 0.498046875000000,\n",
       " 0.498050682261209,\n",
       " 0.498054474708171,\n",
       " 0.498058252427184,\n",
       " 0.498062015503876,\n",
       " 0.498065764023211,\n",
       " 0.498069498069498,\n",
       " 0.498073217726397,\n",
       " 0.498076923076923,\n",
       " 0.498080614203455,\n",
       " 0.498084291187739,\n",
       " 0.498087954110899,\n",
       " 0.498091603053435,\n",
       " 0.498095238095238,\n",
       " 0.498098859315589,\n",
       " 0.498102466793169,\n",
       " 0.498106060606061,\n",
       " 0.498109640831758,\n",
       " 0.498113207547170,\n",
       " 0.498116760828625,\n",
       " 0.498120300751880,\n",
       " 0.498123827392120,\n",
       " 0.498127340823970,\n",
       " 0.498130841121495,\n",
       " 0.498134328358209,\n",
       " 0.498137802607076,\n",
       " 0.498141263940520,\n",
       " 0.498144712430427,\n",
       " 0.498148148148148,\n",
       " 0.498151571164510,\n",
       " 0.498154981549816,\n",
       " 0.498158379373849,\n",
       " 0.498161764705882,\n",
       " 0.498165137614679,\n",
       " 0.498168498168498,\n",
       " 0.498171846435101,\n",
       " 0.498175182481752,\n",
       " 0.498178506375228,\n",
       " 0.498181818181818,\n",
       " 0.498185117967332,\n",
       " 0.498188405797101,\n",
       " 0.498191681735986,\n",
       " 0.498194945848375,\n",
       " 0.498198198198198,\n",
       " 0.498201438848921,\n",
       " 0.498204667863555,\n",
       " 0.498207885304659,\n",
       " 0.498211091234347,\n",
       " 0.498214285714286,\n",
       " 0.498217468805704,\n",
       " 0.498220640569395,\n",
       " 0.498223801065719,\n",
       " 0.498226950354610,\n",
       " 0.498230088495575,\n",
       " 0.498233215547703,\n",
       " 0.498236331569665,\n",
       " 0.498239436619718,\n",
       " 0.498242530755712,\n",
       " 0.498245614035088,\n",
       " 0.498248686514886,\n",
       " 0.498251748251748,\n",
       " 0.498254799301920,\n",
       " 0.498257839721254,\n",
       " 0.498260869565217,\n",
       " 0.498263888888889,\n",
       " 0.498266897746967,\n",
       " 0.498269896193772,\n",
       " 0.498272884283247,\n",
       " 0.498275862068966,\n",
       " 0.498278829604131,\n",
       " 0.498281786941581,\n",
       " 0.498284734133791,\n",
       " 0.498287671232877,\n",
       " 0.498290598290598,\n",
       " 0.498293515358362,\n",
       " 0.498296422487223,\n",
       " 0.498299319727891,\n",
       " 0.498302207130730,\n",
       " 0.498305084745763,\n",
       " 0.498307952622673,\n",
       " 0.498310810810811,\n",
       " 0.498313659359191,\n",
       " 0.498316498316498,\n",
       " 0.498319327731092,\n",
       " 0.498322147651007,\n",
       " 0.498324958123953,\n",
       " 0.498327759197324,\n",
       " 0.498330550918197,\n",
       " 0.498333333333333,\n",
       " 0.498336106489185,\n",
       " 0.498338870431894,\n",
       " 0.498341625207297,\n",
       " 0.498344370860927,\n",
       " 0.498347107438017,\n",
       " 0.498349834983498,\n",
       " 0.498352553542010,\n",
       " 0.498355263157895,\n",
       " 0.498357963875205,\n",
       " 0.498360655737705,\n",
       " 0.498363338788871,\n",
       " 0.498366013071895,\n",
       " 0.498368678629690,\n",
       " 0.498371335504886,\n",
       " 0.498373983739837,\n",
       " 0.498376623376623,\n",
       " 0.498379254457050,\n",
       " 0.498381877022654,\n",
       " 0.498384491114701,\n",
       " 0.498387096774194,\n",
       " 0.498389694041868,\n",
       " 0.498392282958199,\n",
       " 0.498394863563403,\n",
       " 0.498397435897436,\n",
       " 0.498400000000000,\n",
       " 0.498402555910543,\n",
       " 0.498405103668262,\n",
       " 0.498407643312102,\n",
       " 0.498410174880763,\n",
       " 0.498412698412698,\n",
       " 0.498415213946117,\n",
       " 0.498417721518987,\n",
       " 0.498420221169036,\n",
       " 0.498422712933754,\n",
       " 0.498425196850394,\n",
       " 0.498427672955975,\n",
       " 0.498430141287284,\n",
       " 0.498432601880878,\n",
       " 0.498435054773083,\n",
       " 0.498437500000000,\n",
       " 0.498439937597504,\n",
       " 0.498442367601246,\n",
       " 0.498444790046656,\n",
       " 0.498447204968944,\n",
       " 0.498449612403101,\n",
       " 0.498452012383901,\n",
       " 0.498454404945904,\n",
       " 0.498456790123457,\n",
       " 0.498459167950693,\n",
       " 0.498461538461538,\n",
       " 0.498463901689708,\n",
       " 0.498466257668712,\n",
       " 0.498468606431853,\n",
       " 0.498470948012232,\n",
       " 0.498473282442748,\n",
       " 0.498475609756098,\n",
       " 0.498477929984779,\n",
       " 0.498480243161094,\n",
       " 0.498482549317147,\n",
       " 0.498484848484848,\n",
       " 0.498487140695915,\n",
       " 0.498489425981873,\n",
       " 0.498491704374057,\n",
       " 0.498493975903614,\n",
       " 0.498496240601504,\n",
       " 0.498498498498498,\n",
       " 0.498500749625187,\n",
       " 0.498502994011976,\n",
       " 0.498505231689088,\n",
       " 0.498507462686567,\n",
       " 0.498509687034277,\n",
       " 0.498511904761905,\n",
       " 0.498514115898960,\n",
       " 0.498516320474777,\n",
       " 0.498518518518519,\n",
       " 0.498520710059172,\n",
       " 0.498522895125554,\n",
       " 0.498525073746313,\n",
       " 0.498527245949926,\n",
       " 0.498529411764706,\n",
       " 0.498531571218796,\n",
       " 0.498533724340176,\n",
       " 0.498535871156662,\n",
       " 0.498538011695906,\n",
       " 0.498540145985401,\n",
       " 0.498542274052478,\n",
       " 0.498544395924309,\n",
       " 0.498546511627907,\n",
       " 0.498548621190131,\n",
       " 0.498550724637681,\n",
       " 0.498552821997106,\n",
       " 0.498554913294798,\n",
       " 0.498556998556999,\n",
       " 0.498559077809798,\n",
       " 0.498561151079137,\n",
       " 0.498563218390805,\n",
       " 0.498565279770445,\n",
       " 0.498567335243553,\n",
       " 0.498569384835479,\n",
       " 0.498571428571429,\n",
       " 0.498573466476462,\n",
       " 0.498575498575499,\n",
       " 0.498577524893314,\n",
       " 0.498579545454545,\n",
       " 0.498581560283688,\n",
       " 0.498583569405099,\n",
       " 0.498585572842999,\n",
       " 0.498587570621469,\n",
       " 0.498589562764457,\n",
       " 0.498591549295775,\n",
       " 0.498593530239100,\n",
       " 0.498595505617977,\n",
       " 0.498597475455820,\n",
       " 0.498599439775910,\n",
       " 0.498601398601399,\n",
       " 0.498603351955307,\n",
       " 0.498605299860530,\n",
       " 0.498607242339833,\n",
       " 0.498609179415855,\n",
       " 0.498611111111111,\n",
       " 0.498613037447989,\n",
       " 0.498614958448753,\n",
       " 0.498616874135546,\n",
       " 0.498618784530387,\n",
       " 0.498620689655172,\n",
       " 0.498622589531680,\n",
       " 0.498624484181568,\n",
       " 0.498626373626374,\n",
       " 0.498628257887517,\n",
       " 0.498630136986301,\n",
       " 0.498632010943912,\n",
       " 0.498633879781421,\n",
       " 0.498635743519782,\n",
       " 0.498637602179836,\n",
       " 0.498639455782313,\n",
       " 0.498641304347826,\n",
       " 0.498643147896879,\n",
       " 0.498644986449864,\n",
       " 0.498646820027064,\n",
       " 0.498648648648649,\n",
       " 0.498650472334683,\n",
       " 0.498652291105121,\n",
       " 0.498654104979812,\n",
       " 0.498655913978495,\n",
       " 0.498657718120805,\n",
       " 0.498659517426273,\n",
       " 0.498661311914324,\n",
       " 0.498663101604278,\n",
       " 0.498664886515354,\n",
       " 0.498666666666667,\n",
       " 0.498668442077230,\n",
       " 0.498670212765957,\n",
       " 0.498671978751660,\n",
       " 0.498673740053050,\n",
       " 0.498675496688742,\n",
       " 0.498677248677249,\n",
       " 0.498678996036988,\n",
       " 0.498680738786280,\n",
       " 0.498682476943346,\n",
       " 0.498684210526316,\n",
       " 0.498685939553219,\n",
       " 0.498687664041995,\n",
       " 0.498689384010485,\n",
       " 0.498691099476440,\n",
       " 0.498692810457516,\n",
       " 0.498694516971279,\n",
       " 0.498696219035202,\n",
       " 0.498697916666667,\n",
       " 0.498699609882965,\n",
       " 0.498701298701299,\n",
       " 0.498702983138781,\n",
       " 0.498704663212435,\n",
       " 0.498706338939198,\n",
       " 0.498708010335917,\n",
       " 0.498709677419355,\n",
       " 0.498711340206186,\n",
       " 0.498712998712999,\n",
       " 0.498714652956298,\n",
       " 0.498716302952503,\n",
       " 0.498717948717949,\n",
       " 0.498719590268886,\n",
       " 0.498721227621483,\n",
       " 0.498722860791826,\n",
       " 0.498724489795918,\n",
       " 0.498726114649682,\n",
       " 0.498727735368957,\n",
       " 0.498729351969504,\n",
       " 0.498730964467005,\n",
       " 0.498732572877060,\n",
       " 0.498734177215190,\n",
       " 0.498735777496839,\n",
       " 0.498737373737374,\n",
       " 0.498738965952081,\n",
       " 0.498740554156171,\n",
       " 0.498742138364780,\n",
       " 0.498743718592965,\n",
       " 0.498745294855709,\n",
       " 0.498746867167920,\n",
       " 0.498748435544431,\n",
       " 0.498750000000000,\n",
       " 0.498751560549313,\n",
       " 0.498753117206983,\n",
       " 0.498754669987547,\n",
       " 0.498756218905473,\n",
       " 0.498757763975155,\n",
       " 0.498759305210918,\n",
       " 0.498760842627014,\n",
       " 0.498762376237624,\n",
       " 0.498763906056860,\n",
       " 0.498765432098765,\n",
       " 0.498766954377312,\n",
       " 0.498768472906404,\n",
       " 0.498769987699877,\n",
       " 0.498771498771499,\n",
       " 0.498773006134969,\n",
       " 0.498774509803922,\n",
       " 0.498776009791922,\n",
       " 0.498777506112469,\n",
       " 0.498778998778999,\n",
       " 0.498780487804878,\n",
       " 0.498781973203410,\n",
       " 0.498783454987835,\n",
       " 0.498784933171324,\n",
       " 0.498786407766990,\n",
       " 0.498787878787879,\n",
       " 0.498789346246973,\n",
       " 0.498790810157195,\n",
       " 0.498792270531401,\n",
       " 0.498793727382388,\n",
       " 0.498795180722892,\n",
       " 0.498796630565584,\n",
       " 0.498798076923077,\n",
       " 0.498799519807923,\n",
       " 0.498800959232614,\n",
       " 0.498802395209581,\n",
       " 0.498803827751196,\n",
       " 0.498805256869773,\n",
       " 0.498806682577566,\n",
       " 0.498808104886770,\n",
       " 0.498809523809524,\n",
       " 0.498810939357907,\n",
       " 0.498812351543943,\n",
       " 0.498813760379597,\n",
       " 0.498815165876777,\n",
       " 0.498816568047337,\n",
       " 0.498817966903073,\n",
       " 0.498819362455726,\n",
       " 0.498820754716981,\n",
       " 0.498822143698469,\n",
       " 0.498823529411765,\n",
       " 0.498824911868390,\n",
       " 0.498826291079812,\n",
       " 0.498827667057444,\n",
       " 0.498829039812646,\n",
       " 0.498830409356725,\n",
       " 0.498831775700935,\n",
       " 0.498833138856476,\n",
       " 0.498834498834499,\n",
       " 0.498835855646100,\n",
       " 0.498837209302326,\n",
       " 0.498838559814170,\n",
       " 0.498839907192575,\n",
       " 0.498841251448436,\n",
       " 0.498842592592593,\n",
       " 0.498843930635838,\n",
       " 0.498845265588915,\n",
       " 0.498846597462514,\n",
       " 0.498847926267281,\n",
       " 0.498849252013809,\n",
       " 0.498850574712644,\n",
       " 0.498851894374282,\n",
       " 0.498853211009174,\n",
       " 0.498854524627721,\n",
       " 0.498855835240275,\n",
       " 0.498857142857143,\n",
       " 0.498858447488584,\n",
       " 0.498859749144812,\n",
       " 0.498861047835991,\n",
       " 0.498862343572241,\n",
       " 0.498863636363636,\n",
       " 0.498864926220204,\n",
       " 0.498866213151927,\n",
       " 0.498867497168743,\n",
       " 0.498868778280543,\n",
       " 0.498870056497175,\n",
       " 0.498871331828442,\n",
       " 0.498872604284104,\n",
       " 0.498873873873874,\n",
       " 0.498875140607424,\n",
       " 0.498876404494382,\n",
       " 0.498877665544332,\n",
       " 0.498878923766816,\n",
       " 0.498880179171333,\n",
       " 0.498881431767338,\n",
       " 0.498882681564246,\n",
       " 0.498883928571429,\n",
       " 0.498885172798216,\n",
       " 0.498886414253898,\n",
       " 0.498887652947720,\n",
       " 0.498888888888889,\n",
       " 0.498890122086570,\n",
       " 0.498891352549889,\n",
       " 0.498892580287929,\n",
       " 0.498893805309734,\n",
       " 0.498895027624309,\n",
       " 0.498896247240618,\n",
       " 0.498897464167585,\n",
       " 0.498898678414097,\n",
       " 0.498899889988999,\n",
       " 0.498901098901099,\n",
       " 0.498902305159166,\n",
       " 0.498903508771930,\n",
       " 0.498904709748083,\n",
       " 0.498905908096280,\n",
       " 0.498907103825137,\n",
       " 0.498908296943231,\n",
       " 0.498909487459106,\n",
       " 0.498910675381264,\n",
       " 0.498911860718172,\n",
       " 0.498913043478261,\n",
       " 0.498914223669924,\n",
       " 0.498915401301518,\n",
       " 0.498916576381365,\n",
       " 0.498917748917749,\n",
       " 0.498918918918919,\n",
       " 0.498920086393089,\n",
       " 0.498921251348436,\n",
       " 0.498922413793103,\n",
       " 0.498923573735199,\n",
       " 0.498924731182796,\n",
       " 0.498925886143931,\n",
       " 0.498927038626609,\n",
       " 0.498928188638800,\n",
       " 0.498929336188437,\n",
       " 0.498930481283422,\n",
       " 0.498931623931624,\n",
       " 0.498932764140875,\n",
       " 0.498933901918977,\n",
       " 0.498935037273695,\n",
       " 0.498936170212766,\n",
       " 0.498937300743889,\n",
       " 0.498938428874735,\n",
       " 0.498939554612937,\n",
       " 0.498940677966102,\n",
       " 0.498941798941799,\n",
       " 0.498942917547569,\n",
       " 0.498944033790919,\n",
       " 0.498945147679325,\n",
       " 0.498946259220232,\n",
       " 0.498947368421053,\n",
       " 0.498948475289169,\n",
       " 0.498949579831933,\n",
       " 0.498950682056663,\n",
       " 0.498951781970650,\n",
       " 0.498952879581152,\n",
       " 0.498953974895398,\n",
       " 0.498955067920585,\n",
       " 0.498956158663883,\n",
       " 0.498957247132430,\n",
       " 0.498958333333333,\n",
       " 0.498959417273673,\n",
       " 0.498960498960499,\n",
       " 0.498961578400831,\n",
       " 0.498962655601660,\n",
       " 0.498963730569948,\n",
       " 0.498964803312629,\n",
       " 0.498965873836608,\n",
       " 0.498966942148760,\n",
       " 0.498968008255934,\n",
       " 0.498969072164948,\n",
       " 0.498970133882595,\n",
       " 0.498971193415638,\n",
       " 0.498972250770812,\n",
       " 0.498973305954825,\n",
       " 0.498974358974359,\n",
       " 0.498975409836066,\n",
       " 0.498976458546571,\n",
       " 0.498977505112474,\n",
       " 0.498978549540347,\n",
       " 0.498979591836735,\n",
       " 0.498980632008155,\n",
       " 0.498981670061100,\n",
       " 0.498982706002035,\n",
       " 0.498983739837398,\n",
       " 0.498984771573604,\n",
       " 0.498985801217039,\n",
       " 0.498986828774063,\n",
       " 0.498987854251012,\n",
       " 0.498988877654196,\n",
       " 0.498989898989899,\n",
       " 0.498990918264379,\n",
       " 0.498991935483871,\n",
       " 0.498992950654582,\n",
       " 0.498993963782696,\n",
       " 0.498994974874372,\n",
       " 0.498995983935743,\n",
       " 0.498996990972919,\n",
       " 0.498997995991984,\n",
       " 0.498998998998999,\n",
       " 0.499000000000000,\n",
       " 0.499000999000999,\n",
       " 0.499001996007984]"
      ]
     },
     "execution_count": 146,
     "metadata": {},
     "output_type": "execute_result"
    }
   ],
   "source": [
    "# partial sums\n",
    "k = [i for i in range(1, 1001)]\n",
    "partial_sums = [sym.summation(fx, (r, 1, i)).evalf() for i in k]\n",
    "partial_sums"
   ]
  },
  {
   "cell_type": "code",
   "execution_count": 148,
   "metadata": {},
   "outputs": [
    {
     "data": {
      "image/png": "[encoded data removed]",
      "text/plain": [
       "<Figure size 640x480 with 1 Axes>"
      ]
     },
     "metadata": {},
     "output_type": "display_data"
    }
   ],
   "source": [
    "plt.figure()\n",
    "plt.plot(k, partial_sums)\n",
    "plt.axhline(y=sym.summation(fx, (r, 1, sym.oo)), label='infinity')\n",
    "plt.legend()\n",
    "plt.show()"
   ]
  },
  {
   "cell_type": "markdown",
   "metadata": {},
   "source": [
    "### Taylor Series"
   ]
  },
  {
   "cell_type": "markdown",
   "metadata": {},
   "source": [
    "### 25"
   ]
  },
  {
   "cell_type": "code",
   "execution_count": 149,
   "metadata": {},
   "outputs": [
    {
     "data": {
      "text/latex": [
       "$\\displaystyle \\cos{\\left(x \\right)}$"
      ],
      "text/plain": [
       "cos(x)"
      ]
     },
     "execution_count": 149,
     "metadata": {},
     "output_type": "execute_result"
    }
   ],
   "source": [
    "gx = sym.cos(x)\n",
    "gx"
   ]
  },
  {
   "cell_type": "code",
   "execution_count": 155,
   "metadata": {},
   "outputs": [
    {
     "data": {
      "text/latex": [
       "$\\displaystyle 1 - \\frac{x^{2}}{2} + \\frac{x^{4}}{24} + O\\left(x^{6}\\right)$"
      ],
      "text/plain": [
       "1 - x**2/2 + x**4/24 + O(x**6)"
      ]
     },
     "execution_count": 155,
     "metadata": {},
     "output_type": "execute_result"
    }
   ],
   "source": [
    "gx = sym.series(gx, x, 0)\n",
    "gx"
   ]
  },
  {
   "cell_type": "code",
   "execution_count": 157,
   "metadata": {},
   "outputs": [
    {
     "data": {
      "text/latex": [
       "$\\displaystyle x \\left(1 - \\frac{x^{2}}{2} + \\frac{x^{4}}{24} + O\\left(x^{6}\\right)\\right)$"
      ],
      "text/plain": [
       "x*(1 - x**2/2 + x**4/24 + O(x**6))"
      ]
     },
     "execution_count": 157,
     "metadata": {},
     "output_type": "execute_result"
    }
   ],
   "source": [
    "fx = x * gx\n",
    "fx"
   ]
  },
  {
   "cell_type": "code",
   "execution_count": 173,
   "metadata": {},
   "outputs": [
    {
     "data": {
      "text/latex": [
       "$\\displaystyle - \\frac{\\pi \\left(x - \\frac{\\pi}{2}\\right)}{2} - \\left(x - \\frac{\\pi}{2}\\right)^{2} + \\frac{\\pi \\left(x - \\frac{\\pi}{2}\\right)^{3}}{12} + \\frac{\\left(x - \\frac{\\pi}{2}\\right)^{4}}{6} - \\frac{\\pi \\left(x - \\frac{\\pi}{2}\\right)^{5}}{240} + O\\left(\\left(x - \\frac{\\pi}{2}\\right)^{6}; x\\rightarrow \\frac{\\pi}{2}\\right)$"
      ],
      "text/plain": [
       "-pi*(x - pi/2)/2 - (x - pi/2)**2 + pi*(x - pi/2)**3/12 + (x - pi/2)**4/6 - pi*(x - pi/2)**5/240 + O((x - pi/2)**6, (x, pi/2))"
      ]
     },
     "execution_count": 173,
     "metadata": {},
     "output_type": "execute_result"
    }
   ],
   "source": [
    "fx_taylor = sym.series(fx, x, sym.pi/2)\n",
    "fx = x * sym.cos(x)\n",
    "fx_taylor"
   ]
  },
  {
   "cell_type": "code",
   "execution_count": 174,
   "metadata": {},
   "outputs": [],
   "source": [
    "fx_taylor_numerical = sym.lambdify(x, fx_taylor.removeO(), 'numpy')\n",
    "fx_numerical = sym.lambdify(x, fx, 'numpy')"
   ]
  },
  {
   "cell_type": "code",
   "execution_count": 175,
   "metadata": {},
   "outputs": [],
   "source": [
    "x_range = np.linspace(-5, 5)\n",
    "fx_taylor_y_range = fx_taylor_numerical(x_range)\n",
    "fx_y_range = fx_numerical(x_range)"
   ]
  },
  {
   "cell_type": "code",
   "execution_count": 176,
   "metadata": {},
   "outputs": [
    {
     "data": {
      "image/png": "[encoded data removed]",
      "text/plain": [
       "<Figure size 640x480 with 1 Axes>"
      ]
     },
     "metadata": {},
     "output_type": "display_data"
    }
   ],
   "source": [
    "plt.figure()\n",
    "plt.plot(x_range, fx_taylor_y_range, label='taylor')\n",
    "plt.plot(x_range, fx_y_range, label='original')\n",
    "plt.legend()\n",
    "plt.show()"
   ]
  },
  {
   "cell_type": "markdown",
   "metadata": {},
   "source": [
    "### Maclaurin Series"
   ]
  },
  {
   "cell_type": "markdown",
   "metadata": {},
   "source": [
    "### 27"
   ]
  },
  {
   "cell_type": "code",
   "execution_count": 177,
   "metadata": {},
   "outputs": [
    {
     "data": {
      "text/latex": [
       "$\\displaystyle e^{x} \\cos{\\left(x \\right)}$"
      ],
      "text/plain": [
       "exp(x)*cos(x)"
      ]
     },
     "execution_count": 177,
     "metadata": {},
     "output_type": "execute_result"
    }
   ],
   "source": [
    "fx = sym.E**x * sym.cos(x)\n",
    "fx"
   ]
  },
  {
   "cell_type": "code",
   "execution_count": 181,
   "metadata": {},
   "outputs": [
    {
     "data": {
      "text/latex": [
       "$\\displaystyle - \\frac{x^{5}}{30} - \\frac{x^{4}}{6} - \\frac{x^{3}}{3} + x + 1$"
      ],
      "text/plain": [
       "-x**5/30 - x**4/6 - x**3/3 + x + 1"
      ]
     },
     "execution_count": 181,
     "metadata": {},
     "output_type": "execute_result"
    }
   ],
   "source": [
    "fx_mac = sym.series(fx, x, 0).removeO()\n",
    "fx_mac"
   ]
  },
  {
   "cell_type": "code",
   "execution_count": 183,
   "metadata": {},
   "outputs": [
    {
     "data": {
      "image/png": "[encoded data removed]",
      "text/plain": [
       "<Figure size 640x480 with 1 Axes>"
      ]
     },
     "metadata": {},
     "output_type": "display_data"
    }
   ],
   "source": [
    "plt.figure()\n",
    "plt.plot(x_range, sym.lambdify(x, fx_mac)(x_range), label='fx_mac')\n",
    "plt.plot(x_range, sym.lambdify(x, fx)(x_range), label='fx')\n",
    "plt.legend()\n",
    "plt.show()"
   ]
  },
  {
   "cell_type": "code",
   "execution_count": null,
   "metadata": {},
   "outputs": [],
   "source": []
  }
 ],
 "metadata": {
  "kernelspec": {
   "display_name": "islp",
   "language": "python",
   "name": "python3"
  },
  "language_info": {
   "codemirror_mode": {
    "name": "ipython",
    "version": 3
   },
   "file_extension": ".py",
   "mimetype": "text/x-python",
   "name": "python",
   "nbconvert_exporter": "python",
   "pygments_lexer": "ipython3",
   "version": "3.11.9"
  }
 },
 "nbformat": 4,
 "nbformat_minor": 2
}
