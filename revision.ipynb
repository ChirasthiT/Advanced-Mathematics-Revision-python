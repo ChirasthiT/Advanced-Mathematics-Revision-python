{
 "cells": [
  {
   "cell_type": "code",
   "execution_count": 1,
   "metadata": {},
   "outputs": [],
   "source": [
    "import sympy as sym\n",
    "import numpy as np\n",
    "import matplotlib.pyplot as plt"
   ]
  },
  {
   "cell_type": "markdown",
   "metadata": {},
   "source": [
    "## Differentiation"
   ]
  },
  {
   "cell_type": "markdown",
   "metadata": {},
   "source": [
    "### 1"
   ]
  },
  {
   "cell_type": "code",
   "execution_count": 2,
   "metadata": {},
   "outputs": [
    {
     "data": {
      "text/latex": [
       "$\\displaystyle x$"
      ],
      "text/plain": [
       "x"
      ]
     },
     "execution_count": 2,
     "metadata": {},
     "output_type": "execute_result"
    }
   ],
   "source": [
    "x = sym.symbols('x')\n",
    "x"
   ]
  },
  {
   "cell_type": "code",
   "execution_count": 4,
   "metadata": {},
   "outputs": [
    {
     "data": {
      "text/latex": [
       "$\\displaystyle \\left(x^{3} + 1\\right) \\log{\\left(\\tan^{2}{\\left(x \\right)} \\right)}$"
      ],
      "text/plain": [
       "(x**3 + 1)*log(tan(x)**2)"
      ]
     },
     "execution_count": 4,
     "metadata": {},
     "output_type": "execute_result"
    }
   ],
   "source": [
    "fx = (1 + x**3) * sym.log(sym.tan(x)**2)\n",
    "fx"
   ]
  },
  {
   "cell_type": "code",
   "execution_count": 6,
   "metadata": {},
   "outputs": [
    {
     "data": {
      "text/latex": [
       "$\\displaystyle 3 x^{2} \\log{\\left(\\tan^{2}{\\left(x \\right)} \\right)} + \\frac{\\left(x^{3} + 1\\right) \\left(2 \\tan^{2}{\\left(x \\right)} + 2\\right)}{\\tan{\\left(x \\right)}}$"
      ],
      "text/plain": [
       "3*x**2*log(tan(x)**2) + (x**3 + 1)*(2*tan(x)**2 + 2)/tan(x)"
      ]
     },
     "execution_count": 6,
     "metadata": {},
     "output_type": "execute_result"
    }
   ],
   "source": [
    "fx_diff = sym.diff(fx)\n",
    "fx_diff"
   ]
  },
  {
   "cell_type": "code",
   "execution_count": 7,
   "metadata": {},
   "outputs": [
    {
     "data": {
      "text/latex": [
       "$\\displaystyle 2 \\cdot \\left(\\frac{6 x^{2} \\left(\\tan^{2}{\\left(x \\right)} + 1\\right)}{\\tan{\\left(x \\right)}} + 3 x \\log{\\left(\\tan^{2}{\\left(x \\right)} \\right)} + \\left(x^{3} + 1\\right) \\left(- \\frac{\\left(\\tan^{2}{\\left(x \\right)} + 1\\right)^{2}}{\\tan^{2}{\\left(x \\right)}} + 2 \\tan^{2}{\\left(x \\right)} + 2\\right)\\right)$"
      ],
      "text/plain": [
       "2*(6*x**2*(tan(x)**2 + 1)/tan(x) + 3*x*log(tan(x)**2) + (x**3 + 1)*(-(tan(x)**2 + 1)**2/tan(x)**2 + 2*tan(x)**2 + 2))"
      ]
     },
     "execution_count": 7,
     "metadata": {},
     "output_type": "execute_result"
    }
   ],
   "source": [
    "# second degree\n",
    "fx_diff_2 = sym.diff(fx, x, 2)\n",
    "fx_diff_2"
   ]
  },
  {
   "cell_type": "code",
   "execution_count": 11,
   "metadata": {},
   "outputs": [],
   "source": [
    "x_range = np.linspace(1, 10, 100)\n",
    "fx_numerical = sym.lambdify(x, fx, 'numpy')\n",
    "fx_diff_numerical = sym.lambdify(x, fx_diff, 'numpy')\n",
    "fx_diff_2_numerical = sym.lambdify(x, fx_diff_2, 'numpy')"
   ]
  },
  {
   "cell_type": "code",
   "execution_count": 12,
   "metadata": {},
   "outputs": [],
   "source": [
    "fx_y_range = fx_numerical(x_range)\n",
    "fx_diff_y_range = fx_diff_numerical(x_range)\n",
    "fx_diff_2_y_range = fx_diff_2_numerical(x_range)"
   ]
  },
  {
   "cell_type": "code",
   "execution_count": 13,
   "metadata": {},
   "outputs": [
    {
     "data": {
      "image/png": "[encoded data removed]",
      "text/plain": [
       "<Figure size 640x480 with 1 Axes>"
      ]
     },
     "metadata": {},
     "output_type": "display_data"
    }
   ],
   "source": [
    "plt.figure()\n",
    "plt.plot(x_range, fx_y_range, label='fx')\n",
    "plt.plot(x_range, fx_diff_y_range, label='fx_diff')\n",
    "plt.plot(x_range, fx_diff_2_y_range, label='fx_diff_2')\n",
    "plt.legend()\n",
    "plt.show()"
   ]
  },
  {
   "cell_type": "markdown",
   "metadata": {},
   "source": [
    "### 2"
   ]
  },
  {
   "cell_type": "code",
   "execution_count": 16,
   "metadata": {},
   "outputs": [
    {
     "data": {
      "text/latex": [
       "$\\displaystyle \\frac{x - \\frac{1}{3}}{\\left(x^{2} - 3\\right)^{3}}$"
      ],
      "text/plain": [
       "(x - 1/3)/(x**2 - 3)**3"
      ]
     },
     "execution_count": 16,
     "metadata": {},
     "output_type": "execute_result"
    }
   ],
   "source": [
    "fx = ((3 * x - 1)**1/3) / ((x**2 - 3)**3)\n",
    "fx "
   ]
  },
  {
   "cell_type": "code",
   "execution_count": 17,
   "metadata": {},
   "outputs": [
    {
     "data": {
      "text/latex": [
       "$\\displaystyle - \\frac{6 x \\left(x - \\frac{1}{3}\\right)}{\\left(x^{2} - 3\\right)^{4}} + \\frac{1}{\\left(x^{2} - 3\\right)^{3}}$"
      ],
      "text/plain": [
       "-6*x*(x - 1/3)/(x**2 - 3)**4 + (x**2 - 3)**(-3)"
      ]
     },
     "execution_count": 17,
     "metadata": {},
     "output_type": "execute_result"
    }
   ],
   "source": [
    "fx_diff = sym.diff(fx)\n",
    "fx_diff"
   ]
  },
  {
   "cell_type": "code",
   "execution_count": 18,
   "metadata": {},
   "outputs": [
    {
     "data": {
      "text/latex": [
       "$\\displaystyle \\frac{6 \\left(- 2 x + \\frac{\\left(3 x - 1\\right) \\left(\\frac{8 x^{2}}{x^{2} - 3} - 1\\right)}{3}\\right)}{\\left(x^{2} - 3\\right)^{4}}$"
      ],
      "text/plain": [
       "6*(-2*x + (3*x - 1)*(8*x**2/(x**2 - 3) - 1)/3)/(x**2 - 3)**4"
      ]
     },
     "execution_count": 18,
     "metadata": {},
     "output_type": "execute_result"
    }
   ],
   "source": [
    "fx_diff_2 = sym.diff(fx, x, 2)\n",
    "fx_diff_2"
   ]
  },
  {
   "cell_type": "code",
   "execution_count": 19,
   "metadata": {},
   "outputs": [],
   "source": [
    "fx_numerical = sym.lambdify(x, fx)\n",
    "fx_y_range = fx_numerical(x_range)\n",
    "\n",
    "fx_diff_numerical = sym.lambdify(x, fx_diff)\n",
    "fx_diff_y_range = fx_diff_numerical(x_range)\n",
    "\n",
    "fx_diff_2_numerical = sym.lambdify(x, fx_diff_2)\n",
    "fx_y_range = fx_diff_2_numerical(x_range)"
   ]
  },
  {
   "cell_type": "code",
   "execution_count": 20,
   "metadata": {},
   "outputs": [
    {
     "data": {
      "image/png": "[encoded data removed]",
      "text/plain": [
       "<Figure size 640x480 with 1 Axes>"
      ]
     },
     "metadata": {},
     "output_type": "display_data"
    }
   ],
   "source": [
    "plt.figure()\n",
    "plt.plot(x_range, fx_y_range, label='fx')\n",
    "plt.plot(x_range, fx_diff_y_range, label='fx_diff')\n",
    "plt.plot(x_range, fx_diff_2_y_range, label='fx_diff_2')\n",
    "plt.legend()\n",
    "plt.show()"
   ]
  },
  {
   "cell_type": "markdown",
   "metadata": {},
   "source": [
    "### 3 tbs\n"
   ]
  },
  {
   "cell_type": "code",
   "execution_count": 21,
   "metadata": {},
   "outputs": [
    {
     "data": {
      "text/latex": [
       "$\\displaystyle y$"
      ],
      "text/plain": [
       "y"
      ]
     },
     "execution_count": 21,
     "metadata": {},
     "output_type": "execute_result"
    }
   ],
   "source": [
    "y = sym.symbols('y')\n",
    "y"
   ]
  },
  {
   "cell_type": "code",
   "execution_count": 41,
   "metadata": {},
   "outputs": [
    {
     "data": {
      "text/latex": [
       "$\\displaystyle y{\\left(x \\right)}$"
      ],
      "text/plain": [
       "y(x)"
      ]
     },
     "execution_count": 41,
     "metadata": {},
     "output_type": "execute_result"
    }
   ],
   "source": [
    "y_as_func = sym.Function('y')(x)\n",
    "y_as_func"
   ]
  },
  {
   "cell_type": "code",
   "execution_count": 42,
   "metadata": {},
   "outputs": [
    {
     "data": {
      "text/latex": [
       "$\\displaystyle - x^{2} + \\tan{\\left(y{\\left(x \\right)} \\right)} - 1$"
      ],
      "text/plain": [
       "-x**2 + tan(y(x)) - 1"
      ]
     },
     "execution_count": 42,
     "metadata": {},
     "output_type": "execute_result"
    }
   ],
   "source": [
    "fx = sym.tan(y_as_func) - x**2 - 1\n",
    "fx"
   ]
  },
  {
   "cell_type": "code",
   "execution_count": 43,
   "metadata": {},
   "outputs": [
    {
     "data": {
      "text/latex": [
       "$\\displaystyle - 2 x + \\left(\\tan^{2}{\\left(y{\\left(x \\right)} \\right)} + 1\\right) \\frac{d}{d x} y{\\left(x \\right)}$"
      ],
      "text/plain": [
       "-2*x + (tan(y(x))**2 + 1)*Derivative(y(x), x)"
      ]
     },
     "execution_count": 43,
     "metadata": {},
     "output_type": "execute_result"
    }
   ],
   "source": [
    "fx_diff = sym.diff(fx, x)\n",
    "fx_diff"
   ]
  },
  {
   "cell_type": "code",
   "execution_count": 45,
   "metadata": {},
   "outputs": [
    {
     "data": {
      "text/plain": [
       "[]"
      ]
     },
     "execution_count": 45,
     "metadata": {},
     "output_type": "execute_result"
    }
   ],
   "source": [
    "dy_dx = sym.solve(fx_diff, sym.diff(y, x))\n",
    "dy_dx"
   ]
  },
  {
   "cell_type": "code",
   "execution_count": null,
   "metadata": {},
   "outputs": [],
   "source": [
    "dy_dx_at_0_1 = dy_dx.subs({x: 1, y:0})\n",
    "dy_dx_at_0_1"
   ]
  },
  {
   "cell_type": "markdown",
   "metadata": {},
   "source": [
    "### 18"
   ]
  },
  {
   "cell_type": "code",
   "execution_count": 94,
   "metadata": {},
   "outputs": [],
   "source": [
    "a, b, t = sym.symbols('a, b, t')"
   ]
  },
  {
   "cell_type": "code",
   "execution_count": 95,
   "metadata": {},
   "outputs": [
    {
     "data": {
      "text/latex": [
       "$\\displaystyle a t^{4} + b t$"
      ],
      "text/plain": [
       "a*t**4 + b*t"
      ]
     },
     "execution_count": 95,
     "metadata": {},
     "output_type": "execute_result"
    }
   ],
   "source": [
    "y_func = (t**4 * a) + (b * t)\n",
    "y_func"
   ]
  },
  {
   "cell_type": "code",
   "execution_count": 96,
   "metadata": {},
   "outputs": [
    {
     "data": {
      "text/latex": [
       "$\\displaystyle x^{4} - 4$"
      ],
      "text/plain": [
       "x**4 - 4"
      ]
     },
     "execution_count": 96,
     "metadata": {},
     "output_type": "execute_result"
    }
   ],
   "source": [
    "t_func = x**4 - 4\n",
    "t_func"
   ]
  },
  {
   "cell_type": "code",
   "execution_count": 97,
   "metadata": {},
   "outputs": [
    {
     "data": {
      "text/latex": [
       "$\\displaystyle a \\left(x^{4} - 4\\right)^{4} + b \\left(x^{4} - 4\\right)$"
      ],
      "text/plain": [
       "a*(x**4 - 4)**4 + b*(x**4 - 4)"
      ]
     },
     "execution_count": 97,
     "metadata": {},
     "output_type": "execute_result"
    }
   ],
   "source": [
    "y_sub_t = y_func.subs(t, t_func)\n",
    "y_sub_t"
   ]
  },
  {
   "cell_type": "code",
   "execution_count": 98,
   "metadata": {},
   "outputs": [
    {
     "data": {
      "text/latex": [
       "$\\displaystyle 16 a x^{3} \\left(x^{4} - 4\\right)^{3} + 4 b x^{3}$"
      ],
      "text/plain": [
       "16*a*x**3*(x**4 - 4)**3 + 4*b*x**3"
      ]
     },
     "execution_count": 98,
     "metadata": {},
     "output_type": "execute_result"
    }
   ],
   "source": [
    "y_sub_t_diff = sym.diff(y_sub_t, x)\n",
    "y_sub_t_diff"
   ]
  },
  {
   "cell_type": "markdown",
   "metadata": {},
   "source": [
    "### 19"
   ]
  },
  {
   "cell_type": "code",
   "execution_count": 99,
   "metadata": {},
   "outputs": [
    {
     "data": {
      "text/latex": [
       "$\\displaystyle \\left(3 x - 5\\right) \\left(4 x - 3\\right)^{2}$"
      ],
      "text/plain": [
       "(3*x - 5)*(4*x - 3)**2"
      ]
     },
     "execution_count": 99,
     "metadata": {},
     "output_type": "execute_result"
    }
   ],
   "source": [
    "fx = (3*x - 5) * (4*x - 3)**2\n",
    "fx"
   ]
  },
  {
   "cell_type": "code",
   "execution_count": 100,
   "metadata": {},
   "outputs": [
    {
     "data": {
      "text/latex": [
       "$\\displaystyle -1331$"
      ],
      "text/plain": [
       "-1331"
      ]
     },
     "execution_count": 100,
     "metadata": {},
     "output_type": "execute_result"
    }
   ],
   "source": [
    "y_value = fx.subs(x, -2)\n",
    "y_value"
   ]
  },
  {
   "cell_type": "code",
   "execution_count": 101,
   "metadata": {},
   "outputs": [
    {
     "data": {
      "text/latex": [
       "$\\displaystyle \\left(3 x - 5\\right) \\left(32 x - 24\\right) + 3 \\left(4 x - 3\\right)^{2}$"
      ],
      "text/plain": [
       "(3*x - 5)*(32*x - 24) + 3*(4*x - 3)**2"
      ]
     },
     "execution_count": 101,
     "metadata": {},
     "output_type": "execute_result"
    }
   ],
   "source": [
    "slope = sym.diff(fx, x)\n",
    "slope"
   ]
  },
  {
   "cell_type": "code",
   "execution_count": 102,
   "metadata": {},
   "outputs": [
    {
     "data": {
      "text/latex": [
       "$\\displaystyle x_{1}$"
      ],
      "text/plain": [
       "x_1"
      ]
     },
     "execution_count": 102,
     "metadata": {},
     "output_type": "execute_result"
    }
   ],
   "source": [
    "x1, y1 = sym.symbols('x_1, y_2')\n",
    "x1"
   ]
  },
  {
   "cell_type": "code",
   "execution_count": 108,
   "metadata": {},
   "outputs": [
    {
     "data": {
      "text/latex": [
       "$\\displaystyle - y + y_{2} = \\left(- x + x_{1}\\right) \\left(\\left(3 x - 5\\right) \\left(32 x - 24\\right) + 3 \\left(4 x - 3\\right)^{2}\\right)$"
      ],
      "text/plain": [
       "Eq(-y + y_2, (-x + x_1)*((3*x - 5)*(32*x - 24) + 3*(4*x - 3)**2))"
      ]
     },
     "execution_count": 108,
     "metadata": {},
     "output_type": "execute_result"
    }
   ],
   "source": [
    "equation_of_the_tangent_to_the_curve = sym.Eq((y1 - y), (slope*(x1 - x)))\n",
    "equation_of_the_tangent_to_the_curve"
   ]
  },
  {
   "cell_type": "code",
   "execution_count": 110,
   "metadata": {},
   "outputs": [
    {
     "data": {
      "text/latex": [
       "$\\displaystyle y_{2} + 1331 = 1331 x_{1} + 2662$"
      ],
      "text/plain": [
       "Eq(y_2 + 1331, 1331*x_1 + 2662)"
      ]
     },
     "execution_count": 110,
     "metadata": {},
     "output_type": "execute_result"
    }
   ],
   "source": [
    "equation_of_the_tangent_to_the_curve.subs({x : -2, y : y_value})"
   ]
  },
  {
   "cell_type": "markdown",
   "metadata": {},
   "source": [
    "## Integration"
   ]
  },
  {
   "cell_type": "markdown",
   "metadata": {},
   "source": [
    "### 6"
   ]
  },
  {
   "cell_type": "code",
   "execution_count": 60,
   "metadata": {},
   "outputs": [],
   "source": [
    "x_range = np.linspace(-2, 2)"
   ]
  },
  {
   "cell_type": "code",
   "execution_count": 61,
   "metadata": {},
   "outputs": [
    {
     "data": {
      "text/latex": [
       "$\\displaystyle 4 x + 3 + \\frac{1}{x^{2}}$"
      ],
      "text/plain": [
       "4*x + 3 + x**(-2)"
      ]
     },
     "execution_count": 61,
     "metadata": {},
     "output_type": "execute_result"
    }
   ],
   "source": [
    "fx = 1 / x**2 + 4*x + 3\n",
    "fx"
   ]
  },
  {
   "cell_type": "code",
   "execution_count": 62,
   "metadata": {},
   "outputs": [
    {
     "data": {
      "text/latex": [
       "$\\displaystyle 2 x^{2} + 3 x - \\frac{1}{x}$"
      ],
      "text/plain": [
       "2*x**2 + 3*x - 1/x"
      ]
     },
     "execution_count": 62,
     "metadata": {},
     "output_type": "execute_result"
    }
   ],
   "source": [
    "fx_integrate = sym.integrate(fx)\n",
    "fx_integrate"
   ]
  },
  {
   "cell_type": "code",
   "execution_count": 63,
   "metadata": {},
   "outputs": [],
   "source": [
    "fx_numerical = sym.lambdify(x, fx, 'numpy')\n",
    "fx_y_range = fx_numerical(x_range)"
   ]
  },
  {
   "cell_type": "code",
   "execution_count": 64,
   "metadata": {},
   "outputs": [],
   "source": [
    "fx_integrate_numerical = sym.lambdify(x, fx_integrate, 'numpy')\n",
    "fx_integrate_y_range = fx_integrate_numerical(x_range)"
   ]
  },
  {
   "cell_type": "code",
   "execution_count": 65,
   "metadata": {},
   "outputs": [
    {
     "data": {
      "image/png": "[encoded data removed]",
      "text/plain": [
       "<Figure size 640x480 with 1 Axes>"
      ]
     },
     "metadata": {},
     "output_type": "display_data"
    }
   ],
   "source": [
    "plt.figure()\n",
    "plt.plot(x_range, fx_y_range, label = 'fx')\n",
    "plt.plot(x_range, fx_integrate_y_range, label='fx_integrate')\n",
    "plt.fill_between(x_range, fx_integrate_y_range)\n",
    "plt.legend()\n",
    "plt.show()"
   ]
  },
  {
   "cell_type": "markdown",
   "metadata": {},
   "source": [
    "### 7"
   ]
  },
  {
   "cell_type": "code",
   "execution_count": 52,
   "metadata": {},
   "outputs": [
    {
     "data": {
      "text/latex": [
       "$\\displaystyle \\frac{1 - x}{\\left(x + 1\\right)^{2}}$"
      ],
      "text/plain": [
       "(1 - x)/(x + 1)**2"
      ]
     },
     "execution_count": 52,
     "metadata": {},
     "output_type": "execute_result"
    }
   ],
   "source": [
    "fx = 1 / (1 + x)**2 * (1 - x)\n",
    "fx"
   ]
  },
  {
   "cell_type": "code",
   "execution_count": 59,
   "metadata": {},
   "outputs": [
    {
     "data": {
      "text/latex": [
       "$\\displaystyle - \\log{\\left(x + 1 \\right)} - \\frac{2}{x + 1}$"
      ],
      "text/plain": [
       "-log(x + 1) - 2/(x + 1)"
      ]
     },
     "execution_count": 59,
     "metadata": {},
     "output_type": "execute_result"
    }
   ],
   "source": [
    "fx_integrate = sym.integrate(fx)\n",
    "fx_integrate"
   ]
  },
  {
   "cell_type": "markdown",
   "metadata": {},
   "source": [
    "### 8"
   ]
  },
  {
   "cell_type": "code",
   "execution_count": 66,
   "metadata": {},
   "outputs": [
    {
     "data": {
      "text/latex": [
       "$\\displaystyle x^{3} + 1$"
      ],
      "text/plain": [
       "x**3 + 1"
      ]
     },
     "execution_count": 66,
     "metadata": {},
     "output_type": "execute_result"
    }
   ],
   "source": [
    "fx = x**3 + 1\n",
    "fx"
   ]
  },
  {
   "cell_type": "code",
   "execution_count": 67,
   "metadata": {},
   "outputs": [
    {
     "data": {
      "text/latex": [
       "$\\displaystyle \\frac{69}{4}$"
      ],
      "text/plain": [
       "69/4"
      ]
     },
     "execution_count": 67,
     "metadata": {},
     "output_type": "execute_result"
    }
   ],
   "source": [
    "fx_integrate = sym.integrate(fx, (x, 2, 3))\n",
    "fx_integrate"
   ]
  },
  {
   "cell_type": "markdown",
   "metadata": {},
   "source": [
    "### 9"
   ]
  },
  {
   "cell_type": "code",
   "execution_count": 72,
   "metadata": {},
   "outputs": [
    {
     "data": {
      "text/plain": [
       "[(0, 0),\n",
       " (1, 1),\n",
       " ((-1/2 - sqrt(3)*I/2)**2, -1/2 - sqrt(3)*I/2),\n",
       " ((-1/2 + sqrt(3)*I/2)**2, -1/2 + sqrt(3)*I/2)]"
      ]
     },
     "execution_count": 72,
     "metadata": {},
     "output_type": "execute_result"
    }
   ],
   "source": [
    "curve1 = sym.Eq(y, x**2)\n",
    "curve2 = sym.Eq(y**2, x)  \n",
    "\n",
    "intesection_points = sym.solve([curve1, curve2], (x, y))\n",
    "intesection_points"
   ]
  },
  {
   "cell_type": "code",
   "execution_count": 70,
   "metadata": {},
   "outputs": [
    {
     "data": {
      "text/latex": [
       "$\\displaystyle x^{0.5}$"
      ],
      "text/plain": [
       "x**0.5"
      ]
     },
     "execution_count": 70,
     "metadata": {},
     "output_type": "execute_result"
    }
   ],
   "source": [
    "fx = x**2\n",
    "fx_2 = x**(1/2)\n",
    "fx_2"
   ]
  },
  {
   "cell_type": "code",
   "execution_count": 77,
   "metadata": {},
   "outputs": [
    {
     "data": {
      "text/latex": [
       "$\\displaystyle 0.333333333333333$"
      ],
      "text/plain": [
       "0.333333333333333"
      ]
     },
     "execution_count": 77,
     "metadata": {},
     "output_type": "execute_result"
    }
   ],
   "source": [
    "fx_integrate = sym.integrate(fx_2 - fx, (x, 0, 1))\n",
    "fx_integrate"
   ]
  },
  {
   "cell_type": "markdown",
   "metadata": {},
   "source": [
    "### 10"
   ]
  },
  {
   "cell_type": "code",
   "execution_count": 78,
   "metadata": {},
   "outputs": [
    {
     "data": {
      "text/latex": [
       "$\\displaystyle 9 + \\frac{1}{x}$"
      ],
      "text/plain": [
       "9 + 1/x"
      ]
     },
     "execution_count": 78,
     "metadata": {},
     "output_type": "execute_result"
    }
   ],
   "source": [
    "fx = x**2 / x**3 + 9\n",
    "fx"
   ]
  },
  {
   "cell_type": "code",
   "execution_count": 83,
   "metadata": {},
   "outputs": [
    {
     "data": {
      "text/latex": [
       "$\\displaystyle \\infty$"
      ],
      "text/plain": [
       "oo"
      ]
     },
     "execution_count": 83,
     "metadata": {},
     "output_type": "execute_result"
    }
   ],
   "source": [
    "fx_integrate = sym.integrate(fx, (x, 0, 1))\n",
    "fx_integrate"
   ]
  },
  {
   "cell_type": "markdown",
   "metadata": {},
   "source": [
    "### 11"
   ]
  },
  {
   "cell_type": "code",
   "execution_count": 84,
   "metadata": {},
   "outputs": [
    {
     "data": {
      "text/latex": [
       "$\\displaystyle x \\sin{\\left(x \\right)}$"
      ],
      "text/plain": [
       "x*sin(x)"
      ]
     },
     "execution_count": 84,
     "metadata": {},
     "output_type": "execute_result"
    }
   ],
   "source": [
    "fx = x * sym.sin(x)\n",
    "fx"
   ]
  },
  {
   "cell_type": "code",
   "execution_count": 85,
   "metadata": {},
   "outputs": [
    {
     "data": {
      "text/latex": [
       "$\\displaystyle - \\cos{\\left(1 \\right)} + \\sin{\\left(1 \\right)}$"
      ],
      "text/plain": [
       "-cos(1) + sin(1)"
      ]
     },
     "execution_count": 85,
     "metadata": {},
     "output_type": "execute_result"
    }
   ],
   "source": [
    "fx_integrate = sym.integrate(fx, (x, 0, 1))\n",
    "fx_integrate"
   ]
  },
  {
   "cell_type": "markdown",
   "metadata": {},
   "source": [
    "## Partial Differentiation"
   ]
  },
  {
   "cell_type": "markdown",
   "metadata": {},
   "source": [
    "### 12"
   ]
  },
  {
   "cell_type": "code",
   "execution_count": 86,
   "metadata": {},
   "outputs": [
    {
     "data": {
      "text/latex": [
       "$\\displaystyle t$"
      ],
      "text/plain": [
       "t"
      ]
     },
     "execution_count": 86,
     "metadata": {},
     "output_type": "execute_result"
    }
   ],
   "source": [
    "t = sym.symbols('t')\n",
    "t"
   ]
  },
  {
   "cell_type": "code",
   "execution_count": 87,
   "metadata": {},
   "outputs": [
    {
     "data": {
      "text/latex": [
       "$\\displaystyle - 5 t x^{2}$"
      ],
      "text/plain": [
       "-5*t*x**2"
      ]
     },
     "execution_count": 87,
     "metadata": {},
     "output_type": "execute_result"
    }
   ],
   "source": [
    "fx = -5 * x**2 * t\n",
    "fx"
   ]
  },
  {
   "cell_type": "code",
   "execution_count": 88,
   "metadata": {},
   "outputs": [
    {
     "data": {
      "text/latex": [
       "$\\displaystyle 50 t x^{3}$"
      ],
      "text/plain": [
       "50*t*x**3"
      ]
     },
     "execution_count": 88,
     "metadata": {},
     "output_type": "execute_result"
    }
   ],
   "source": [
    "sym.diff(fx, x) * sym.diff(fx, t)"
   ]
  },
  {
   "cell_type": "markdown",
   "metadata": {},
   "source": [
    "### 13"
   ]
  },
  {
   "cell_type": "code",
   "execution_count": 89,
   "metadata": {},
   "outputs": [],
   "source": [
    "s, k = sym.symbols('s, k')"
   ]
  },
  {
   "cell_type": "code",
   "execution_count": 90,
   "metadata": {},
   "outputs": [
    {
     "data": {
      "text/latex": [
       "$\\displaystyle - 27 k^{2} s^{4}$"
      ],
      "text/plain": [
       "-27*k**2*s**4"
      ]
     },
     "execution_count": 90,
     "metadata": {},
     "output_type": "execute_result"
    }
   ],
   "source": [
    "fx = -27 * s**4 * k**2\n",
    "fx"
   ]
  },
  {
   "cell_type": "code",
   "execution_count": 91,
   "metadata": {},
   "outputs": [
    {
     "data": {
      "text/latex": [
       "$\\displaystyle - 108 k^{2} s^{3}$"
      ],
      "text/plain": [
       "-108*k**2*s**3"
      ]
     },
     "execution_count": 91,
     "metadata": {},
     "output_type": "execute_result"
    }
   ],
   "source": [
    "sym.diff(fx, s)"
   ]
  },
  {
   "cell_type": "code",
   "execution_count": 92,
   "metadata": {},
   "outputs": [
    {
     "data": {
      "text/latex": [
       "$\\displaystyle - 54 k s^{4}$"
      ],
      "text/plain": [
       "-54*k*s**4"
      ]
     },
     "execution_count": 92,
     "metadata": {},
     "output_type": "execute_result"
    }
   ],
   "source": [
    "sym.diff(fx, k)"
   ]
  },
  {
   "cell_type": "markdown",
   "metadata": {},
   "source": [
    "### 20"
   ]
  },
  {
   "cell_type": "code",
   "execution_count": 113,
   "metadata": {},
   "outputs": [
    {
     "data": {
      "text/latex": [
       "$\\displaystyle \\theta$"
      ],
      "text/plain": [
       "theta"
      ]
     },
     "execution_count": 113,
     "metadata": {},
     "output_type": "execute_result"
    }
   ],
   "source": [
    "r, theta = sym.symbols('r, theta')\n",
    "theta"
   ]
  },
  {
   "cell_type": "code",
   "execution_count": 114,
   "metadata": {},
   "outputs": [
    {
     "data": {
      "text/latex": [
       "$\\displaystyle e^{r \\sin{\\left(\\theta \\right)}} \\cos{\\left(\\theta \\right)}$"
      ],
      "text/plain": [
       "exp(r*sin(theta))*cos(theta)"
      ]
     },
     "execution_count": 114,
     "metadata": {},
     "output_type": "execute_result"
    }
   ],
   "source": [
    "fx = sym.E**(r*sym.sin(theta)) * sym.cos(theta)\n",
    "fx"
   ]
  },
  {
   "cell_type": "code",
   "execution_count": 115,
   "metadata": {},
   "outputs": [
    {
     "data": {
      "text/latex": [
       "$\\displaystyle e^{r \\sin{\\left(\\theta \\right)}} \\sin{\\left(\\theta \\right)} \\cos{\\left(\\theta \\right)}$"
      ],
      "text/plain": [
       "exp(r*sin(theta))*sin(theta)*cos(theta)"
      ]
     },
     "execution_count": 115,
     "metadata": {},
     "output_type": "execute_result"
    }
   ],
   "source": [
    "sym.diff(fx, r)"
   ]
  },
  {
   "cell_type": "code",
   "execution_count": 116,
   "metadata": {},
   "outputs": [
    {
     "data": {
      "text/latex": [
       "$\\displaystyle r e^{r \\sin{\\left(\\theta \\right)}} \\cos^{2}{\\left(\\theta \\right)} - e^{r \\sin{\\left(\\theta \\right)}} \\sin{\\left(\\theta \\right)}$"
      ],
      "text/plain": [
       "r*exp(r*sin(theta))*cos(theta)**2 - exp(r*sin(theta))*sin(theta)"
      ]
     },
     "execution_count": 116,
     "metadata": {},
     "output_type": "execute_result"
    }
   ],
   "source": [
    "sym.diff(fx, theta)"
   ]
  },
  {
   "cell_type": "markdown",
   "metadata": {},
   "source": [
    "### 21 tbs"
   ]
  },
  {
   "cell_type": "code",
   "execution_count": 119,
   "metadata": {},
   "outputs": [
    {
     "data": {
      "text/latex": [
       "$\\displaystyle u{\\left(x \\right)}$"
      ],
      "text/plain": [
       "u(x)"
      ]
     },
     "execution_count": 119,
     "metadata": {},
     "output_type": "execute_result"
    }
   ],
   "source": [
    "u = sym.Function('u')(x)\n",
    "u"
   ]
  },
  {
   "cell_type": "code",
   "execution_count": 121,
   "metadata": {},
   "outputs": [
    {
     "data": {
      "text/latex": [
       "$\\displaystyle u{\\left(x \\right)} = \\left(- 2 x y + y^{2} + 1\\right)^{-0.5}$"
      ],
      "text/plain": [
       "Eq(u(x), (-2*x*y + y**2 + 1)**(-0.5))"
      ]
     },
     "execution_count": 121,
     "metadata": {},
     "output_type": "execute_result"
    }
   ],
   "source": [
    "fx = sym.Eq(u, ((1 - 2*x*y + y**2)**(-1/2)))\n",
    "fx"
   ]
  },
  {
   "cell_type": "code",
   "execution_count": null,
   "metadata": {},
   "outputs": [],
   "source": [
    "lhs = x * sym.diff()"
   ]
  },
  {
   "cell_type": "markdown",
   "metadata": {},
   "source": [
    "## Sequences and Series "
   ]
  },
  {
   "cell_type": "markdown",
   "metadata": {},
   "source": [
    "### 24"
   ]
  },
  {
   "cell_type": "code",
   "execution_count": 187,
   "metadata": {},
   "outputs": [
    {
     "data": {
      "text/latex": [
       "$\\displaystyle \\frac{r + 2}{r + 1}$"
      ],
      "text/plain": [
       "(r + 2)/(r + 1)"
      ]
     },
     "execution_count": 187,
     "metadata": {},
     "output_type": "execute_result"
    }
   ],
   "source": [
    "fx = 1 / (r + 1) * (r + 2)\n",
    "fx"
   ]
  },
  {
   "cell_type": "code",
   "execution_count": 188,
   "metadata": {},
   "outputs": [
    {
     "data": {
      "text/latex": [
       "$\\displaystyle 1 + \\frac{1}{r + 1}$"
      ],
      "text/plain": [
       "1 + 1/(r + 1)"
      ]
     },
     "execution_count": 188,
     "metadata": {},
     "output_type": "execute_result"
    }
   ],
   "source": [
    "sym.apart(fx)"
   ]
  },
  {
   "cell_type": "code",
   "execution_count": 189,
   "metadata": {},
   "outputs": [
    {
     "data": {
      "text/latex": [
       "$\\displaystyle \\frac{1}{\\left(r + 1\\right) \\left(r + 2\\right)}$"
      ],
      "text/plain": [
       "1/((r + 1)*(r + 2))"
      ]
     },
     "execution_count": 189,
     "metadata": {},
     "output_type": "execute_result"
    }
   ],
   "source": [
    "fx = sym.Rational(1, 1) / ((r + 1) * (r + 2))\n",
    "fx"
   ]
  },
  {
   "cell_type": "code",
   "execution_count": 190,
   "metadata": {},
   "outputs": [
    {
     "data": {
      "text/plain": [
       "[1/6, 1/12, 1/20, 1/30, 1/42, 1/56, 1/72, 1/90, 1/110, 1/132]"
      ]
     },
     "execution_count": 190,
     "metadata": {},
     "output_type": "execute_result"
    }
   ],
   "source": [
    "[fx.subs(r, i) for i in range(1, 11)]"
   ]
  },
  {
   "cell_type": "code",
   "execution_count": 191,
   "metadata": {},
   "outputs": [
    {
     "data": {
      "text/latex": [
       "$\\displaystyle n$"
      ],
      "text/plain": [
       "n"
      ]
     },
     "execution_count": 191,
     "metadata": {},
     "output_type": "execute_result"
    }
   ],
   "source": [
    "n = sym.symbols('n')\n",
    "n"
   ]
  },
  {
   "cell_type": "code",
   "execution_count": 192,
   "metadata": {},
   "outputs": [
    {
     "data": {
      "text/latex": [
       "$\\displaystyle \\frac{1}{2} - \\frac{1}{n + 2}$"
      ],
      "text/plain": [
       "1/2 - 1/(n + 2)"
      ]
     },
     "execution_count": 192,
     "metadata": {},
     "output_type": "execute_result"
    }
   ],
   "source": [
    "sym.summation(fx, (r, 1, n))"
   ]
  },
  {
   "cell_type": "code",
   "execution_count": 193,
   "metadata": {},
   "outputs": [
    {
     "data": {
      "text/latex": [
       "$\\displaystyle \\frac{1}{2}$"
      ],
      "text/plain": [
       "1/2"
      ]
     },
     "execution_count": 193,
     "metadata": {},
     "output_type": "execute_result"
    }
   ],
   "source": [
    "sym.summation(fx, (r, 1, sym.oo))"
   ]
  },
  {
   "cell_type": "code",
   "execution_count": 194,
   "metadata": {},
   "outputs": [
    {
     "data": {
      "text/latex": [
       "$\\displaystyle \\text{False}$"
      ],
      "text/plain": [
       "False"
      ]
     },
     "execution_count": 194,
     "metadata": {},
     "output_type": "execute_result"
    }
   ],
   "source": [
    "sym.Sum(fx, (n, 1, sym.oo)).is_convergent()"
   ]
  },
  {
   "cell_type": "code",
   "execution_count": 196,
   "metadata": {},
   "outputs": [
    {
     "data": {
      "text/plain": [
       "[0.166666666666667,\n",
       " 0.250000000000000,\n",
       " 0.300000000000000,\n",
       " 0.333333333333333,\n",
       " 0.357142857142857]"
      ]
     },
     "execution_count": 196,
     "metadata": {},
     "output_type": "execute_result"
    }
   ],
   "source": [
    "# partial sums\n",
    "k = [i for i in range(1, 6)]\n",
    "partial_sums = [sym.summation(fx, (r, 1, i)).evalf() for i in k]\n",
    "partial_sums"
   ]
  },
  {
   "cell_type": "code",
   "execution_count": 197,
   "metadata": {},
   "outputs": [
    {
     "data": {
      "image/png": "[encoded data removed]",
      "text/plain": [
       "<Figure size 640x480 with 1 Axes>"
      ]
     },
     "metadata": {},
     "output_type": "display_data"
    }
   ],
   "source": [
    "plt.figure()\n",
    "plt.plot(k, partial_sums)\n",
    "plt.axhline(y=sym.summation(fx, (r, 1, sym.oo)), label='infinity')\n",
    "plt.legend()\n",
    "plt.show()"
   ]
  },
  {
   "cell_type": "markdown",
   "metadata": {},
   "source": [
    "### Taylor Series"
   ]
  },
  {
   "cell_type": "markdown",
   "metadata": {},
   "source": [
    "### 25"
   ]
  },
  {
   "cell_type": "code",
   "execution_count": 149,
   "metadata": {},
   "outputs": [
    {
     "data": {
      "text/latex": [
       "$\\displaystyle \\cos{\\left(x \\right)}$"
      ],
      "text/plain": [
       "cos(x)"
      ]
     },
     "execution_count": 149,
     "metadata": {},
     "output_type": "execute_result"
    }
   ],
   "source": [
    "gx = sym.cos(x)\n",
    "gx"
   ]
  },
  {
   "cell_type": "code",
   "execution_count": 155,
   "metadata": {},
   "outputs": [
    {
     "data": {
      "text/latex": [
       "$\\displaystyle 1 - \\frac{x^{2}}{2} + \\frac{x^{4}}{24} + O\\left(x^{6}\\right)$"
      ],
      "text/plain": [
       "1 - x**2/2 + x**4/24 + O(x**6)"
      ]
     },
     "execution_count": 155,
     "metadata": {},
     "output_type": "execute_result"
    }
   ],
   "source": [
    "gx = sym.series(gx, x, 0)\n",
    "gx"
   ]
  },
  {
   "cell_type": "code",
   "execution_count": 157,
   "metadata": {},
   "outputs": [
    {
     "data": {
      "text/latex": [
       "$\\displaystyle x \\left(1 - \\frac{x^{2}}{2} + \\frac{x^{4}}{24} + O\\left(x^{6}\\right)\\right)$"
      ],
      "text/plain": [
       "x*(1 - x**2/2 + x**4/24 + O(x**6))"
      ]
     },
     "execution_count": 157,
     "metadata": {},
     "output_type": "execute_result"
    }
   ],
   "source": [
    "fx = x * gx\n",
    "fx"
   ]
  },
  {
   "cell_type": "code",
   "execution_count": 173,
   "metadata": {},
   "outputs": [
    {
     "data": {
      "text/latex": [
       "$\\displaystyle - \\frac{\\pi \\left(x - \\frac{\\pi}{2}\\right)}{2} - \\left(x - \\frac{\\pi}{2}\\right)^{2} + \\frac{\\pi \\left(x - \\frac{\\pi}{2}\\right)^{3}}{12} + \\frac{\\left(x - \\frac{\\pi}{2}\\right)^{4}}{6} - \\frac{\\pi \\left(x - \\frac{\\pi}{2}\\right)^{5}}{240} + O\\left(\\left(x - \\frac{\\pi}{2}\\right)^{6}; x\\rightarrow \\frac{\\pi}{2}\\right)$"
      ],
      "text/plain": [
       "-pi*(x - pi/2)/2 - (x - pi/2)**2 + pi*(x - pi/2)**3/12 + (x - pi/2)**4/6 - pi*(x - pi/2)**5/240 + O((x - pi/2)**6, (x, pi/2))"
      ]
     },
     "execution_count": 173,
     "metadata": {},
     "output_type": "execute_result"
    }
   ],
   "source": [
    "fx_taylor = sym.series(fx, x, sym.pi/2)\n",
    "fx = x * sym.cos(x)\n",
    "fx_taylor"
   ]
  },
  {
   "cell_type": "code",
   "execution_count": 174,
   "metadata": {},
   "outputs": [],
   "source": [
    "fx_taylor_numerical = sym.lambdify(x, fx_taylor.removeO(), 'numpy')\n",
    "fx_numerical = sym.lambdify(x, fx, 'numpy')"
   ]
  },
  {
   "cell_type": "code",
   "execution_count": 175,
   "metadata": {},
   "outputs": [],
   "source": [
    "x_range = np.linspace(-5, 5)\n",
    "fx_taylor_y_range = fx_taylor_numerical(x_range)\n",
    "fx_y_range = fx_numerical(x_range)"
   ]
  },
  {
   "cell_type": "code",
   "execution_count": 176,
   "metadata": {},
   "outputs": [
    {
     "data": {
      "image/png": "[encoded data removed]",
      "text/plain": [
       "<Figure size 640x480 with 1 Axes>"
      ]
     },
     "metadata": {},
     "output_type": "display_data"
    }
   ],
   "source": [
    "plt.figure()\n",
    "plt.plot(x_range, fx_taylor_y_range, label='taylor')\n",
    "plt.plot(x_range, fx_y_range, label='original')\n",
    "plt.legend()\n",
    "plt.show()"
   ]
  },
  {
   "cell_type": "markdown",
   "metadata": {},
   "source": [
    "### Maclaurin Series"
   ]
  },
  {
   "cell_type": "markdown",
   "metadata": {},
   "source": [
    "### 27"
   ]
  },
  {
   "cell_type": "code",
   "execution_count": 177,
   "metadata": {},
   "outputs": [
    {
     "data": {
      "text/latex": [
       "$\\displaystyle e^{x} \\cos{\\left(x \\right)}$"
      ],
      "text/plain": [
       "exp(x)*cos(x)"
      ]
     },
     "execution_count": 177,
     "metadata": {},
     "output_type": "execute_result"
    }
   ],
   "source": [
    "fx = sym.E**x * sym.cos(x)\n",
    "fx"
   ]
  },
  {
   "cell_type": "code",
   "execution_count": 181,
   "metadata": {},
   "outputs": [
    {
     "data": {
      "text/latex": [
       "$\\displaystyle - \\frac{x^{5}}{30} - \\frac{x^{4}}{6} - \\frac{x^{3}}{3} + x + 1$"
      ],
      "text/plain": [
       "-x**5/30 - x**4/6 - x**3/3 + x + 1"
      ]
     },
     "execution_count": 181,
     "metadata": {},
     "output_type": "execute_result"
    }
   ],
   "source": [
    "fx_mac = sym.series(fx, x, 0).removeO()\n",
    "fx_mac"
   ]
  },
  {
   "cell_type": "code",
   "execution_count": 183,
   "metadata": {},
   "outputs": [
    {
     "data": {
      "image/png": "[encoded data removed]",
      "text/plain": [
       "<Figure size 640x480 with 1 Axes>"
      ]
     },
     "metadata": {},
     "output_type": "display_data"
    }
   ],
   "source": [
    "plt.figure()\n",
    "plt.plot(x_range, sym.lambdify(x, fx_mac)(x_range), label='fx_mac')\n",
    "plt.plot(x_range, sym.lambdify(x, fx)(x_range), label='fx')\n",
    "plt.legend()\n",
    "plt.show()"
   ]
  },
  {
   "cell_type": "code",
   "execution_count": null,
   "metadata": {},
   "outputs": [],
   "source": []
  },
  {
   "cell_type": "markdown",
   "metadata": {},
   "source": [
    "## Other"
   ]
  },
  {
   "cell_type": "code",
   "execution_count": null,
   "metadata": {},
   "outputs": [
    {
     "data": {
      "image/png": "[encoded data removed]",
      "text/plain": [
       "<Figure size 640x480 with 1 Axes>"
      ]
     },
     "metadata": {},
     "output_type": "display_data"
    }
   ],
   "source": [
    "# sin cos tan plotting\n",
    "x_range = np.linspace(-1 * np.pi, 1 * np.pi)\n",
    "plt.plot(x_range, sym.lambdify(x, sym.sin(x))(x_range), label='sinx')\n",
    "plt.plot(x_range, sym.lambdify(x, sym.cos(x))(x_range), label='cosx')\n",
    "plt.plot(x_range, sym.lambdify(x, sym.tan(x))(x_range), label='tanx')\n",
    "plt.legend()\n",
    "plt.show()"
   ]
  },
  {
   "cell_type": "code",
   "execution_count": 201,
   "metadata": {},
   "outputs": [
    {
     "data": {
      "text/latex": [
       "$\\displaystyle \\frac{\\sin{\\left(3 x \\right)}}{\\sin{\\left(4 x \\right)}}$"
      ],
      "text/plain": [
       "sin(3*x)/sin(4*x)"
      ]
     },
     "execution_count": 201,
     "metadata": {},
     "output_type": "execute_result"
    }
   ],
   "source": [
    "# limits\n",
    "fx = sym.sin(3 * x) / sym.sin(4 * x)\n",
    "fx"
   ]
  },
  {
   "cell_type": "code",
   "execution_count": 203,
   "metadata": {},
   "outputs": [
    {
     "data": {
      "text/latex": [
       "$\\displaystyle \\lim_{x \\to \\infty}\\left(\\frac{\\sin{\\left(3 x \\right)}}{\\sin{\\left(4 x \\right)}}\\right)$"
      ],
      "text/plain": [
       "Limit(sin(3*x)/sin(4*x), x, oo, dir='-')"
      ]
     },
     "execution_count": 203,
     "metadata": {},
     "output_type": "execute_result"
    }
   ],
   "source": [
    "sym.Limit(fx, x, sym.oo)"
   ]
  },
  {
   "cell_type": "code",
   "execution_count": null,
   "metadata": {},
   "outputs": [],
   "source": []
  }
 ],
 "metadata": {
  "kernelspec": {
   "display_name": "islp",
   "language": "python",
   "name": "python3"
  },
  "language_info": {
   "codemirror_mode": {
    "name": "ipython",
    "version": 3
   },
   "file_extension": ".py",
   "mimetype": "text/x-python",
   "name": "python",
   "nbconvert_exporter": "python",
   "pygments_lexer": "ipython3",
   "version": "3.11.9"
  }
 },
 "nbformat": 4,
 "nbformat_minor": 2
}
